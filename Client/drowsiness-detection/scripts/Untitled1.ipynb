{
 "cells": [
  {
   "cell_type": "code",
   "execution_count": null,
   "metadata": {
    "collapsed": true
   },
   "outputs": [],
   "source": [
    "%matplotlib inline\n",
    "import matplotlib.pyplot as plt\n",
    "import numpy as np\n",
    "plt.ion() ## Note this correction\n",
    "fig=plt.figure()\n",
    "plt.axis([0,1000,0,1])\n",
    "\n",
    "i=0\n",
    "x=list()\n",
    "y=list()\n",
    "\n",
    "while i <1000:\n",
    "    temp_y=np.random.random();\n",
    "    x.append(i);\n",
    "    y.append(temp_y);\n",
    "    plt.scatter(i,temp_y);\n",
    "    i+=1;\n",
    "    plt.show()\n",
    "    plt.pause(0.0001) #Note this correction"
   ]
  }
 ],
 "metadata": {
  "kernelspec": {
   "display_name": "Python 2",
   "language": "python",
   "name": "python2"
  },
  "language_info": {
   "codemirror_mode": {
    "name": "ipython",
    "version": 2
   },
   "file_extension": ".py",
   "mimetype": "text/x-python",
   "name": "python",
   "nbconvert_exporter": "python",
   "pygments_lexer": "ipython2",
   "version": "2.7.13"
  }
 },
 "nbformat": 4,
 "nbformat_minor": 2
}
