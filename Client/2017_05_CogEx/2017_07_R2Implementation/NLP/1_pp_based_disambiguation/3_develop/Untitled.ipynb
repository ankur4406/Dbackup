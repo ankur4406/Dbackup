{
 "cells": [
  {
   "cell_type": "code",
   "execution_count": 1,
   "metadata": {
    "collapsed": true
   },
   "outputs": [],
   "source": [
    "from nltk.tree import *"
   ]
  },
  {
   "cell_type": "code",
   "execution_count": 2,
   "metadata": {
    "collapsed": false
   },
   "outputs": [],
   "source": [
    "parse = [(0, ParentedTree('ROOT', [ParentedTree('S', [ParentedTree('NP', [ParentedTree('NNP', ['Chris'])]), ParentedTree('VP', [ParentedTree('VBZ', ['stays']), ParentedTree('PP', [ParentedTree('IN', ['with']), ParentedTree('NP', [ParentedTree('NP', [ParentedTree('NNP', ['Adam'])]), ParentedTree('PP', [ParentedTree('IN', ['in']), ParentedTree('NP', [ParentedTree('NNP', ['Europe'])])])])])]), ParentedTree('.', ['.'])])]))]"
   ]
  },
  {
   "cell_type": "code",
   "execution_count": 3,
   "metadata": {
    "collapsed": true
   },
   "outputs": [],
   "source": [
    "ents_to_disambiguate = [({'begin': 0, 'attributes': [], 'confidence': 0.99, 'ent_type': [('PERSON', 0.99), ('PERSON', 0.4)], 'sent_num': 0, 'text': 'Chris', 'num': 1, 'tok_end': 0, 'end': 5, 'relevance': 0.0, 'tok_begin': 0}, 0), ({'begin': 17, 'attributes': [], 'confidence': 0.99, 'ent_type': [('PERSON', 0.99), ('CITY', 0.99)], 'sent_num': 0, 'text': 'Adam.', 'num': 2, 'tok_end': 4, 'end': 22, 'relevance': 0.0, 'tok_begin': 3}, 1)]"
   ]
  },
  {
   "cell_type": "code",
   "execution_count": 5,
   "metadata": {
    "collapsed": false
   },
   "outputs": [],
   "source": [
    "# for sent_num, tree in parse:\n",
    "#     tree.pretty_print()\n",
    "#     for ent, idx in ents_to_disambiguate:\n",
    "#         print('Disambiguating ' + ent['text'])\n",
    "#         ent_idx = tree.leaves().index(ent['text'])\n",
    "#         tree_location = tree.leaf_treeposition(ent_idx)\n",
    "#         print(tree_location)\n",
    "#         for i in range(1, len(tree_location)):\n",
    "#             indx = -1 * i\n",
    "#             if tree[tree_location[:indx]].label() == 'VP':\n",
    "#                 vrb_loc = tree_location[:indx]\n",
    "#                 continue\n",
    "#         tree[vrb_loc].pretty_print()\n",
    "#         for subtree in tree[vrb_loc].subtrees():\n",
    "#             if subtree.label() == 'PP':\n",
    "#                 pp_tree = subtree\n",
    "#                 continue\n",
    "#         pp_tree.pretty_print()"
   ]
  },
  {
   "cell_type": "code",
   "execution_count": 6,
   "metadata": {
    "collapsed": false
   },
   "outputs": [],
   "source": [
    "# for sent_num, tree in parse:\n",
    "#     tree.pretty_print()\n",
    "#     pp_trees = []\n",
    "#     for subtree in tree.subtrees():\n",
    "#         if subtree.label() in ('PP'):\n",
    "#             pp_trees.append(subtree)"
   ]
  },
  {
   "cell_type": "code",
   "execution_count": 7,
   "metadata": {
    "collapsed": false
   },
   "outputs": [],
   "source": [
    "# pp_grp = []\n",
    "# for tree in pp_trees:\n",
    "#     tree.pretty_print(s)\n",
    "#     tree.parent().pretty_print()"
   ]
  },
  {
   "cell_type": "code",
   "execution_count": 4,
   "metadata": {
    "collapsed": true
   },
   "outputs": [],
   "source": [
    "def get_preposition(tree):\n",
    "    return [child.leaves() for child in tree if child.label() != 'NP'][0]"
   ]
  },
  {
   "cell_type": "code",
   "execution_count": 5,
   "metadata": {
    "collapsed": true
   },
   "outputs": [],
   "source": [
    "def get_left_np(tree):\n",
    "    while tree.left_sibling() is not None:\n",
    "        if tree.left_sibling().label() in (\"NP\",\"NNP\"):\n",
    "            return tree.left_sibling().leaves()\n",
    "        tree = tree.parent()"
   ]
  },
  {
   "cell_type": "code",
   "execution_count": 6,
   "metadata": {
    "collapsed": true
   },
   "outputs": [],
   "source": [
    "def get_right_np(tree):\n",
    "    while tree.height() > 2:\n",
    "        for child in tree:\n",
    "            if child.label() in ('NP','NNP'):\n",
    "                tree = child\n",
    "    return tree.leaves()\n",
    "# [child.leaves() for child in tree if child.label() == 'NP'][0]"
   ]
  },
  {
   "cell_type": "code",
   "execution_count": 7,
   "metadata": {
    "collapsed": false
   },
   "outputs": [],
   "source": [
    "pp_triples = []\n",
    "def traverse(t):\n",
    "    try:\n",
    "        t.label()\n",
    "    except AttributeError:\n",
    "        return\n",
    "    if t.label() == \"PP\":\n",
    "        pp = {}\n",
    "        pp['pr'] = get_preposition(t)\n",
    "        pp['np_l'] = get_left_np(t)\n",
    "        pp['np_r'] = get_right_np(t)\n",
    "        pp_triples.append(pp)\n",
    "\n",
    "    for child in t:\n",
    "        traverse(child)\n",
    "    return pp_triples"
   ]
  },
  {
   "cell_type": "code",
   "execution_count": 8,
   "metadata": {
    "collapsed": false
   },
   "outputs": [
    {
     "name": "stdout",
     "output_type": "stream",
     "text": [
      "                 ROOT                       \n",
      "                  |                          \n",
      "                  S                         \n",
      "   _______________|_______________________   \n",
      "  |               VP                      | \n",
      "  |      _________|____                   |  \n",
      "  |     |              PP                 | \n",
      "  |     |     _________|___               |  \n",
      "  |     |    |             NP             | \n",
      "  |     |    |     ________|___           |  \n",
      "  |     |    |    |            PP         | \n",
      "  |     |    |    |         ___|____      |  \n",
      "  NP    |    |    NP       |        NP    | \n",
      "  |     |    |    |        |        |     |  \n",
      " NNP   VBZ   IN  NNP       IN      NNP    . \n",
      "  |     |    |    |        |        |     |  \n",
      "Chris stays with Adam      in     Europe  . \n",
      "\n",
      "[{'np_r': ['Adam'], 'pr': ['with'], 'np_l': ['Chris']}, {'np_r': ['Europe'], 'pr': ['in'], 'np_l': ['Adam']}]\n"
     ]
    }
   ],
   "source": [
    "for sent_num, tree in parse:\n",
    "    tree.pretty_print()\n",
    "    pp_triples = traverse(tree)\n",
    "    print(pp_triples)"
   ]
  },
  {
   "cell_type": "code",
   "execution_count": null,
   "metadata": {
    "collapsed": true
   },
   "outputs": [],
   "source": [
    "# def extract_intent_service(solution_id, text):\n",
    "disambiguate_entities_by_pp(found_entities)"
   ]
  },
  {
   "cell_type": "code",
   "execution_count": null,
   "metadata": {
    "collapsed": true
   },
   "outputs": [],
   "source": [
    "# intent.py\n",
    "\n",
    "def get_preposition(tree):\n",
    "    return [child.leaves() for child in tree if child.label() != 'NP'][0]\n",
    "\n",
    "\n",
    "def get_left_np(tree):\n",
    "    while tree.left_sibling() is not None:\n",
    "        if tree.left_sibling().label() in (\"NP\", \"NNP\"):\n",
    "            return tree.left_sibling().leaves()\n",
    "        tree = tree.parent()\n",
    "\n",
    "\n",
    "def get_right_np(tree):\n",
    "    while tree.height() > 2:\n",
    "        for child in tree:\n",
    "            if child.label() in ('NP', 'NNP'):\n",
    "                tree = child\n",
    "    return tree.leaves()\n",
    "\n",
    "triples = []\n",
    "\n",
    "def pp_triples(t):\n",
    "    try:\n",
    "        t.label()\n",
    "    except AttributeError:\n",
    "        return\n",
    "    if t.label() in ('PP'):\n",
    "        pp = {}\n",
    "        pp['pr'] = get_preposition(t)\n",
    "        pp['np_left'] = get_left_np(t)\n",
    "        pp['np_right'] = get_right_np(t)\n",
    "        triples.append(pp)\n",
    "    for child in t:\n",
    "        pp_triples(child)\n",
    "    return triples\n",
    "\n",
    "def process_with(found_entities, triple):\n",
    "    for entities in found_entities:\n",
    "        \n",
    "\n",
    "def disambiguate_entities_by_pp(found_entities, text):\n",
    "    svo_extractor = SVOExtractor()\n",
    "    parse = svo_extractor.get_constituency_parse(text)\n",
    "\n",
    "    for _, tree in parse:\n",
    "        triples = pp_triples(tree)\n",
    "\n",
    "    for triple in triples:\n",
    "        if triple['pr'] == 'with':\n",
    "            process_with(found_entities, triple)\n",
    "    return"
   ]
  },
  {
   "cell_type": "code",
   "execution_count": null,
   "metadata": {
    "collapsed": true
   },
   "outputs": [],
   "source": []
  },
  {
   "cell_type": "code",
   "execution_count": null,
   "metadata": {
    "collapsed": true
   },
   "outputs": [],
   "source": []
  },
  {
   "cell_type": "code",
   "execution_count": null,
   "metadata": {
    "collapsed": true
   },
   "outputs": [],
   "source": []
  },
  {
   "cell_type": "code",
   "execution_count": null,
   "metadata": {
    "collapsed": true
   },
   "outputs": [],
   "source": []
  }
 ],
 "metadata": {
  "anaconda-cloud": {},
  "kernelspec": {
   "display_name": "Python [conda root]",
   "language": "python",
   "name": "conda-root-py"
  },
  "language_info": {
   "codemirror_mode": {
    "name": "ipython",
    "version": 3
   },
   "file_extension": ".py",
   "mimetype": "text/x-python",
   "name": "python",
   "nbconvert_exporter": "python",
   "pygments_lexer": "ipython3",
   "version": "3.5.2"
  }
 },
 "nbformat": 4,
 "nbformat_minor": 2
}
