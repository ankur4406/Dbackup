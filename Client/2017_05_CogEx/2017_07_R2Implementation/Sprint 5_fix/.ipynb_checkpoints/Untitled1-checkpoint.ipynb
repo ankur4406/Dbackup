{
 "cells": [
  {
   "cell_type": "code",
   "execution_count": 2,
   "metadata": {
    "collapsed": false
   },
   "outputs": [],
   "source": [
    "flow_file = {\n",
    "    'resources': [{\n",
    "            'file_path': './processed_files/CSF_test_ffi/ProviderFormSample.pdf',\n",
    "            'source_folder': './processed_files/',\n",
    "            'file_name': 'ProviderFormSample.pdf'\n",
    "        }, {\n",
    "            'mime_type': 'pdf',\n",
    "            'file_path': './processed_files/CSF_test_ffi/ProviderFormSample.pdf',\n",
    "            'source_folder': './processed_files/',\n",
    "            'file_name': 'ProviderFormSample.pdf'\n",
    "        }]\n",
    "    }"
   ]
  },
  {
   "cell_type": "code",
   "execution_count": 3,
   "metadata": {
    "collapsed": false
   },
   "outputs": [
    {
     "data": {
      "text/plain": [
       "dict"
      ]
     },
     "execution_count": 3,
     "metadata": {},
     "output_type": "execute_result"
    }
   ],
   "source": [
    "type(flow_file)"
   ]
  }
 ],
 "metadata": {
  "kernelspec": {
   "display_name": "Python [default]",
   "language": "python",
   "name": "python3"
  },
  "language_info": {
   "codemirror_mode": {
    "name": "ipython",
    "version": 3
   },
   "file_extension": ".py",
   "mimetype": "text/x-python",
   "name": "python",
   "nbconvert_exporter": "python",
   "pygments_lexer": "ipython3",
   "version": "3.5.2"
  }
 },
 "nbformat": 4,
 "nbformat_minor": 1
}
