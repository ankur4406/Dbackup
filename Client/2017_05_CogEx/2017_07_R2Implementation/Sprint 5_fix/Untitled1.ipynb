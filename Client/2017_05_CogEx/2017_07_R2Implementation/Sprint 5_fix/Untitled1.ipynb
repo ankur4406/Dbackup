{
 "cells": [
  {
   "cell_type": "code",
   "execution_count": 2,
   "metadata": {
    "collapsed": false
   },
   "outputs": [],
   "source": [
    "flow_file = {\n",
    "    'resources': [{\n",
    "            'file_path': './processed_files/CSF_test_ffi/ProviderFormSample.pdf',\n",
    "            'source_folder': './processed_files/',\n",
    "            'file_name': 'ProviderFormSample.pdf'\n",
    "        }, {\n",
    "            'mime_type': 'pdf',\n",
    "            'file_path': './processed_files/CSF_test_ffi/ProviderFormSample.pdf',\n",
    "            'source_folder': './processed_files/',\n",
    "            'file_name': 'ProviderFormSample.pdf'\n",
    "        }]\n",
    "    }"
   ]
  },
  {
   "cell_type": "code",
   "execution_count": 11,
   "metadata": {
    "collapsed": false
   },
   "outputs": [
    {
     "name": "stdout",
     "output_type": "stream",
     "text": [
      "{'file_path': './processed_files/CSF_test_ffi/ProviderFormSample.pdf', 'source_folder': './processed_files/', 'file_name': 'ProviderFormSample.pdf'}\n",
      "{'file_path': './processed_files/CSF_test_ffi/ProviderFormSample.pdf', 'source_folder': './processed_files/', 'mime_type': 'pdf'}\n"
     ]
    }
   ],
   "source": [
    "for item in flow_file['resources']:\n",
    "    if 'mime_type' in item:\n",
    "        del item['file_name']\n",
    "    print(item)"
   ]
  }
 ],
 "metadata": {
  "kernelspec": {
   "display_name": "Python [default]",
   "language": "python",
   "name": "python3"
  },
  "language_info": {
   "codemirror_mode": {
    "name": "ipython",
    "version": 3
   },
   "file_extension": ".py",
   "mimetype": "text/x-python",
   "name": "python",
   "nbconvert_exporter": "python",
   "pygments_lexer": "ipython3",
   "version": "3.5.2"
  }
 },
 "nbformat": 4,
 "nbformat_minor": 1
}
