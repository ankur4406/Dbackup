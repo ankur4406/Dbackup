{
 "cells": [
  {
   "cell_type": "code",
   "execution_count": 148,
   "metadata": {
    "collapsed": false
   },
   "outputs": [],
   "source": [
    "# Import all the required libraries\n",
    "import os\n",
    "import cv2\n",
    "import numpy as np\n",
    "from scipy import misc\n",
    "from matplotlib import pyplot as plt\n",
    "import pytesseract\n",
    "from PIL import Image"
   ]
  },
  {
   "cell_type": "code",
   "execution_count": 149,
   "metadata": {
    "collapsed": true
   },
   "outputs": [],
   "source": [
    "# Define required parameters\n",
    "dir = r'C:\\Users\\ankuarora\\Desktop\\Client\\2017_05_CogEx\\2017_07_R2Implementation\\Sprint 7\\1TrainDataPrep\\SampleForms'"
   ]
  },
  {
   "cell_type": "code",
   "execution_count": 153,
   "metadata": {
    "collapsed": false
   },
   "outputs": [],
   "source": [
    "# Import all images (jpg, gif & png) in the directory as a list\n",
    "imgs = []\n",
    "valid_images = [\".jpg\",\".gif\",\".png\"]\n",
    "for f in os.listdir(dir):\n",
    "    ext = os.path.splitext(f)[1]\n",
    "    if ext.lower() not in valid_images:\n",
    "        continue\n",
    "    imgs.append((f, cv2.imread(os.path.join(dir,f),0)))"
   ]
  },
  {
   "cell_type": "code",
   "execution_count": 180,
   "metadata": {
    "collapsed": false
   },
   "outputs": [
    {
     "data": {
      "text/plain": [
       "[('letter-of-donation-to-business-sample_195-4.png',\n",
       "  array([[255, 255, 255, ..., 255, 255, 255],\n",
       "         [255, 255, 255, ..., 255, 254, 254],\n",
       "         [254, 254, 255, ..., 254, 254, 254],\n",
       "         ..., \n",
       "         [255, 255, 255, ..., 255, 255, 255],\n",
       "         [255, 254, 254, ..., 255, 255, 255],\n",
       "         [255, 254, 254, ..., 255, 255, 255]], dtype=uint8))]"
      ]
     },
     "execution_count": 180,
     "metadata": {},
     "output_type": "execute_result"
    }
   ],
   "source": [
    "imgs"
   ]
  },
  {
   "cell_type": "code",
   "execution_count": 182,
   "metadata": {
    "collapsed": false
   },
   "outputs": [
    {
     "data": {
      "image/png": "[encoded data removed]",
      "text/plain": [
       "<PIL.Image.Image image mode=L size=595x527 at 0x15D0514E550>"
      ]
     },
     "execution_count": 182,
     "metadata": {},
     "output_type": "execute_result"
    }
   ],
   "source": [
    "misc.toimage(image_sliced)\n",
    "# linspace\n",
    "# byte_lines\n",
    "# b_mean\n",
    "# threshold"
   ]
  },
  {
   "cell_type": "code",
   "execution_count": 181,
   "metadata": {
    "collapsed": false
   },
   "outputs": [
    {
     "name": "stdout",
     "output_type": "stream",
     "text": [
      "Parsing 'letter-of-donation-to-business-sample_195-4.png' ...\n",
      "Done\n"
     ]
    }
   ],
   "source": [
    "features = []\n",
    "for img in imgs:\n",
    "    print (\"Parsing '\" + img[0] + \"' ...\")\n",
    "    \n",
    "    # Preprocess the image\n",
    "    image = cv2.threshold(img[1], 0, 255,cv2.THRESH_BINARY | cv2.THRESH_OTSU)[1]\n",
    "\n",
    "    # Slice the document to remove the extra whitespace borders, if any\n",
    "    p_image = cv2.bitwise_not(image)\n",
    "    p_image = cv2.threshold(p_image, 0, 255,cv2.THRESH_BINARY | cv2.THRESH_OTSU)[1]\n",
    "    coords = np.column_stack(np.where(p_image > 0))\n",
    "    x,y,w,h = cv2.boundingRect(coords)\n",
    "    image_sliced = image[np.max((x-10,0)):np.min((x+w+10,image.shape[0])),\n",
    "                         np.max((y-10,0)):np.min((y+h+10, image.shape[1]))]\n",
    "    \n",
    "    # Find lines by horizontally blurring the image and thresholding\n",
    "    blur = cv2.blur(image_sliced, (91,9))\n",
    "    b_mean = np.mean(blur, axis=1)/255\n",
    "    threshold = np.percentile(b_mean, 50)\n",
    "    t = b_mean > threshold\n",
    "    byte_lines = np.where(1-t)\n",
    "    byte_lines = byte_lines[0]\n",
    "    \n",
    "    # Calculate the median linespace value for defining sections \n",
    "    linspace = []\n",
    "    for x in range(byte_lines.shape[0]-1):\n",
    "        if byte_lines[x+1] == byte_lines[x] + 1:\n",
    "            continue\n",
    "        linspace.append(byte_lines[x+1]-byte_lines[x]-1)\n",
    "    linspace_limit = (1.0 * np.median(linspace))\n",
    "\n",
    "    # Add in extra byte lines to cover unwanted linespace\n",
    "    for x in range(byte_lines.shape[0]-1):\n",
    "        if byte_lines[x+1] == byte_lines[x] + 1:\n",
    "            continue\n",
    "        if ((byte_lines[x+1]-byte_lines[x]) <= linspace_limit):\n",
    "            for i in range(byte_lines[x+1]-byte_lines[x]-1):\n",
    "                byte_lines = np.append(byte_lines, (byte_lines[x]+i+1))\n",
    "    byte_lines = np.sort(byte_lines)\n",
    "\n",
    "    # Identify text line coordinates (y) based on byte lines\n",
    "    txt_lines_y = []\n",
    "    start_y = byte_lines[0]\n",
    "    for y in range(1, byte_lines.shape[0]-1):\n",
    "        if byte_lines[y] == byte_lines[y-1] + 1:\n",
    "            continue\n",
    "        # identified gap between lines, close previous line and start a new one\n",
    "        end_y = byte_lines[y-1]\n",
    "        txt_lines_y.append([start_y, end_y])\n",
    "        start_y = byte_lines[y]\n",
    "    end_y = byte_lines[-1]\n",
    "    txt_lines_y.append([start_y, end_y])\n",
    "\n",
    "    # Identify text line coordinates (x) based on non blank columns\n",
    "    txt_lines_x = []\n",
    "    for line in txt_lines_y:\n",
    "        xx = []\n",
    "        for x in range(image_sliced.shape[1]):\n",
    "            col = image_sliced[line[0]:line[1], x]\n",
    "            if np.min(col) < 128:\n",
    "                xx.append(x)\n",
    "        txt_lines_x.append([min(xx), max(xx)])\n",
    "\n",
    "    # Slice the document based on the coordinates and perform OCR. \n",
    "    # Also, create basic features for use in learning.\n",
    "    for i in range(len(txt_lines_x)):\n",
    "        slc = image_sliced[txt_lines_y[i][0] - 2:txt_lines_y[i][1] + 2, \n",
    "                           txt_lines_x[i][0] - 2:txt_lines_x[i][1] + 2]\n",
    "        filename = os.path.splitext(img[0])[0] + '_slice' + str(i+1) + os.path.splitext(img[0])[1]\n",
    "        misc.imsave(os.path.join(dir, \"slices\\\\\" + filename), slc)\n",
    "        ocr_txt = pytesseract.image_to_string(Image.open(os.path.join(dir, \"slices\\\\\" + filename)))\n",
    "        # os.remove(filename)\n",
    "        features.append({'flag': filename,\n",
    "                        'width': (txt_lines_x[i][1] - txt_lines_x[i][0] + 4)/image_sliced.shape[1],\n",
    "                        'heigth': (txt_lines_y[i][1] - txt_lines_y[i][0] + 4)/image_sliced.shape[0],\n",
    "                        'seq_from_top': (i+1),\n",
    "                        'seq_from_bottom': (len(txt_lines_y)-i),\n",
    "                        'width_prv': 0 if not i else (txt_lines_x[i-1][1] - txt_lines_x[i-1][0] + 4)/image_sliced.shape[1],\n",
    "                        'heigth_prv': 0 if not i else (txt_lines_y[i-1][1] - txt_lines_y[i-1][0] + 4)/image_sliced.shape[0],\n",
    "                        'width_nxt': 0 if i==len(txt_lines_x)-1 else (txt_lines_x[i+1][1] - txt_lines_x[i+1][0] + 4)/image_sliced.shape[1],\n",
    "                        'heigth_nxt': 0 if i==len(txt_lines_y)-1 else (txt_lines_y[i+1][1] - txt_lines_y[i+1][0] + 4)/image_sliced.shape[0],\n",
    "                        'text': ocr_txt\n",
    "                        })    \n",
    "\n",
    "print(\"Done\")"
   ]
  },
  {
   "cell_type": "code",
   "execution_count": 194,
   "metadata": {
    "collapsed": false
   },
   "outputs": [
    {
     "name": "stdout",
     "output_type": "stream",
     "text": [
      "['letter-of-donation-to-business-sample_195-4_slice1.png', 'letter-of-donation-to-business-sample_195-4_slice2.png', 'letter-of-donation-to-business-sample_195-4_slice3.png', 'letter-of-donation-to-business-sample_195-4_slice4.png', 'letter-of-donation-to-business-sample_195-4_slice5.png']\n"
     ]
    }
   ],
   "source": [
    "slice_lst = []\n",
    "for item in features:\n",
    "    slice_lst.append(item['flag'])\n",
    "\n",
    "print(slice_lst)"
   ]
  },
  {
   "cell_type": "code",
   "execution_count": 197,
   "metadata": {
    "collapsed": false
   },
   "outputs": [],
   "source": [
    "import csv\n",
    "\n",
    "with open(os.path.join(dir, 'slices\\\\slice_list.csv'), 'w') as csvfile:\n",
    "    wr = csv.writer(csvfile, quoting=csv.QUOTE_ALL, delimiter='\\n')\n",
    "    wr.writerow(slice_lst)"
   ]
  }
 ],
 "metadata": {
  "anaconda-cloud": {},
  "kernelspec": {
   "display_name": "Python [default]",
   "language": "python",
   "name": "python3"
  },
  "language_info": {
   "codemirror_mode": {
    "name": "ipython",
    "version": 3
   },
   "file_extension": ".py",
   "mimetype": "text/x-python",
   "name": "python",
   "nbconvert_exporter": "python",
   "pygments_lexer": "ipython3",
   "version": "3.5.2"
  }
 },
 "nbformat": 4,
 "nbformat_minor": 1
}
