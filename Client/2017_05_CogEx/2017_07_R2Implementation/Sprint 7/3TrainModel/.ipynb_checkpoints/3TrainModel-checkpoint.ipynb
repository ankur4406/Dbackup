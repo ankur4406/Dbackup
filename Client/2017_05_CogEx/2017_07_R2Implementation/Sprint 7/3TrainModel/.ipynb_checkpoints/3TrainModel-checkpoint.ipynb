{
 "cells": [
  {
   "cell_type": "code",
   "execution_count": 66,
   "metadata": {
    "collapsed": false
   },
   "outputs": [],
   "source": [
    "# Setting up by importing all the relevant libraries\n",
    "import os\n",
    "import pandas as pd\n",
    "from sklearn.model_selection import train_test_split\n",
    "from matplotlib import cm\n",
    "from sklearn import svm\n",
    "from sklearn.linear_model import LogisticRegression\n",
    "from sklearn.externals import joblib\n",
    "\n",
    "%matplotlib notebook"
   ]
  },
  {
   "cell_type": "code",
   "execution_count": 1,
   "metadata": {
    "collapsed": true
   },
   "outputs": [],
   "source": [
    "# Setting parameters\n",
    "dir = r'C:\\Users\\ankuarora\\Desktop\\Client\\2017_05_CogEx\\2017_07_R2Implementation\\Sprint 7\\2BuildFeatures'\n",
    "features_file = 'feature_space.csv'"
   ]
  },
  {
   "cell_type": "code",
   "execution_count": 19,
   "metadata": {
    "collapsed": false
   },
   "outputs": [],
   "source": [
    "# Read the feature space csv created in the previous step\n",
    "features = pd.read_csv(os.path.join(dir, features_file), quotechar='\"', index_col = 'filename', encoding='utf-8')\n",
    "features.fillna(value=0, inplace=True)"
   ]
  },
  {
   "cell_type": "code",
   "execution_count": 89,
   "metadata": {
    "collapsed": false
   },
   "outputs": [],
   "source": [
    "# Create a list of independent vars\n",
    "cols = []\n",
    "for col in features.columns:\n",
    "    if col[:3] in ('wid','hei','seq'): #('wid','hei','seq','cou'):\n",
    "        cols.append(col)"
   ]
  },
  {
   "cell_type": "code",
   "execution_count": 90,
   "metadata": {
    "collapsed": false
   },
   "outputs": [],
   "source": [
    "# Create train/test split for model building and validation\n",
    "X = features[cols]\n",
    "y = features['body']\n",
    "X_train, X_test, y_train, y_test = train_test_split(X, y)"
   ]
  },
  {
   "cell_type": "code",
   "execution_count": 93,
   "metadata": {
    "collapsed": false
   },
   "outputs": [
    {
     "name": "stdout",
     "output_type": "stream",
     "text": [
      "Model accuracy on training dataset: 0.947136563876652\n",
      "Model accuracy on test dataset: 0.9736842105263158\n"
     ]
    }
   ],
   "source": [
    "# Initialise and train the SVM model\n",
    "mdl_svm = svm.LinearSVC()\n",
    "mdl_svm.fit(X_train, y_train)\n",
    "print(\"Model accuracy on training dataset: {}\". format(mdl_svm.score(X_train, y_train)))\n",
    "print(\"Model accuracy on test dataset: {}\". format(mdl_svm.score(X_test, y_test)))"
   ]
  },
  {
   "cell_type": "code",
   "execution_count": 92,
   "metadata": {
    "collapsed": false
   },
   "outputs": [
    {
     "data": {
      "text/plain": [
       "['section_classifier.pkl']"
      ]
     },
     "execution_count": 92,
     "metadata": {},
     "output_type": "execute_result"
    }
   ],
   "source": [
    "joblib.dump(mdl_svm, 'section_classifier.pkl', compress=9)"
   ]
  }
 ],
 "metadata": {
  "anaconda-cloud": {},
  "kernelspec": {
   "display_name": "Python [default]",
   "language": "python",
   "name": "python3"
  },
  "language_info": {
   "codemirror_mode": {
    "name": "ipython",
    "version": 3
   },
   "file_extension": ".py",
   "mimetype": "text/x-python",
   "name": "python",
   "nbconvert_exporter": "python",
   "pygments_lexer": "ipython3",
   "version": "3.5.2"
  }
 },
 "nbformat": 4,
 "nbformat_minor": 1
}
