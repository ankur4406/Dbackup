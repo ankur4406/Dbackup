{
 "cells": [
  {
   "cell_type": "code",
   "execution_count": 2,
   "metadata": {
    "collapsed": true
   },
   "outputs": [],
   "source": [
    "# Setting up by importing all the relevant libraries\n",
    "import sys\n",
    "import cv2\n",
    "import json\n",
    "import base64\n",
    "from scipy import misc\n",
    "import io"
   ]
  },
  {
   "cell_type": "code",
   "execution_count": 3,
   "metadata": {
    "collapsed": true
   },
   "outputs": [],
   "source": [
    "def reference_config(img_form, config_file_in, config_file_out):\n",
    "    \"\"\"\n",
    "    \n",
    "    Purpose: To identify and extract the reference markers for each element of the unknown form based on the \n",
    "                co-ordinate based configuration file\n",
    "    Input(s): 1. Unknown form as a .png file\n",
    "              2. Coordinate based configuration file (.json), created either manually or using the XPMS UI\n",
    "    Outputs(s): A re-defined configuration file (.json) replacing the coordinates for each element with a  \n",
    "                reference marker, encoded as a string (using base64 encoding)\n",
    "    Created by: Ankur Arora, Deloitte USI\n",
    "    Created on: July, 31, 2017\n",
    "    Modified by: \n",
    "    Modified on:\n",
    "    \n",
    "    \"\"\"\n",
    "    \n",
    "    # Loading the form template in the form of an array\n",
    "    form = cv2.imread(img_form)\n",
    "    form_gray = cv2.cvtColor(form,cv2.COLOR_BGR2GRAY)\n",
    "    form_gray = cv2.GaussianBlur(form_gray,(5,5),0)\n",
    "    \n",
    "    # Loading the coordinate based json configuration file as a python dictionary\n",
    "    with open(config_file_in) as config:\n",
    "        dict_config = json.load(config)\n",
    "        \n",
    "    # Looping through the configuration file, converting coordinates to reference markers\n",
    "    for key in dict_config.keys():\n",
    "        x1 = x2 = y1 = y2 = 0.0 # Resetting the cooordinates\n",
    "        # Defining the X coordinates (x1, x2) of the reference marker\n",
    "        x1 = dict_config[key][\"coordinates\"][\"x1\"]\n",
    "        x2 = dict_config[key][\"coordinates\"][\"x2\"]\n",
    "        # Defining the Y coordinates (y1, y2) of the reference marker\n",
    "        if dict_config[key][\"type\"] == \"txt\":\n",
    "            # Slice the region right above the text element\n",
    "            y1 = dict_config[key][\"coordinates\"][\"y1\"] - (dict_config[key][\"coordinates\"][\"y2\"] - dict_config[key][\"coordinates\"][\"y1\"])\n",
    "            y2 = dict_config[key][\"coordinates\"][\"y1\"]\n",
    "        if dict_config[key][\"type\"] == 'omr':\n",
    "            # Slice the OMR region itself\n",
    "            y1 = dict_config[key][\"coordinates\"][\"y1\"]\n",
    "            y2 = dict_config[key][\"coordinates\"][\"y2\"]\n",
    "            # Slice the region above the table as the start reference marker\n",
    "        if dict_config[key][\"type\"] == 'tbl':\n",
    "            y1 = dict_config[key][\"coordinates\"][\"y1\"] - (100)\n",
    "            y2 = dict_config[key][\"coordinates\"][\"y1\"]\n",
    "    \n",
    "        # Encode the marker into a base64 string \n",
    "        ref_marker = misc.toimage(form_gray[y1:y2,x1:x2])\n",
    "        in_mem_file = io.BytesIO()\n",
    "        ref_marker.save(in_mem_file, format = \"PNG\")\n",
    "        in_mem_file.seek(0)\n",
    "        img_bytes = in_mem_file.read()\n",
    "        ref_marker_encoded = base64.b64encode(img_bytes)\n",
    "    \n",
    "        # Define the Y coordinates (y1, y2) for the end of the table element(s)  \n",
    "        if dict_config[key][\"type\"] == 'tbl':\n",
    "            # Slice the region right after the end of the table\n",
    "            y1_ = dict_config[key][\"coordinates\"][\"y2\"]\n",
    "            y2_ = dict_config[key][\"coordinates\"][\"y2\"] + (100)\n",
    "            # Encode the marker into a base64 string\n",
    "            ref_marker = misc.toimage(form_gray[y1_:y2_,x1:x2])\n",
    "            in_mem_file = io.BytesIO()\n",
    "            ref_marker.save(in_mem_file, format = \"PNG\")\n",
    "            in_mem_file.seek(0)\n",
    "            img_bytes = in_mem_file.read()\n",
    "            ref_marker_encoded_ = base64.b64encode(img_bytes)\n",
    "        else:\n",
    "            # For non-table elements, no end marker is required\n",
    "            ref_marker_encoded_ = \"\"\n",
    "        \n",
    "        # Update the dictionary to add the reference markers and remove the coordinates \n",
    "        dict_config[key][\"ref1\"] = ref_marker_encoded\n",
    "        dict_config[key][\"ref2\"] = ref_marker_encoded_\n",
    "        del dict_config[key][\"coordinates\"]\n",
    "\n",
    "    # Export the updated dictionary as a new (json) configuration file\n",
    "    with open(config_file_out, 'w') as fp:\n",
    "        json.dump(dict_config, fp)"
   ]
  },
  {
   "cell_type": "code",
   "execution_count": null,
   "metadata": {
    "collapsed": true
   },
   "outputs": [],
   "source": [
    "# Define the main function for standalone script call\n",
    "if __name__ == '__main__':\n",
    "    reference_config(sys.argv[1], sys.argv[2], sys.argv[3])"
   ]
  }
 ],
 "metadata": {
  "kernelspec": {
   "display_name": "Python 2",
   "language": "python",
   "name": "python2"
  },
  "language_info": {
   "codemirror_mode": {
    "name": "ipython",
    "version": 2
   },
   "file_extension": ".py",
   "mimetype": "text/x-python",
   "name": "python",
   "nbconvert_exporter": "python",
   "pygments_lexer": "ipython2",
   "version": "2.7.13"
  }
 },
 "nbformat": 4,
 "nbformat_minor": 2
}
