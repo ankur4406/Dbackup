{
 "cells": [
  {
   "cell_type": "code",
   "execution_count": 10,
   "metadata": {
    "collapsed": false
   },
   "outputs": [
    {
     "name": "stdout",
     "output_type": "stream",
     "text": [
      "File extension: pdf\n",
      "File MIME type: application/pdf\n"
     ]
    }
   ],
   "source": [
    "import filetype\n",
    "\n",
    "kind = filetype.guess('ProviderFormSample.doc')\n",
    "if kind is None:\n",
    "    print('Cannot guess file type!')\n",
    "\n",
    "print('File extension: %s' % kind.extension)\n",
    "print('File MIME type: %s' % kind.mime)"
   ]
  }
 ],
 "metadata": {
  "anaconda-cloud": {},
  "kernelspec": {
   "display_name": "Python [conda root]",
   "language": "python",
   "name": "conda-root-py"
  },
  "language_info": {
   "codemirror_mode": {
    "name": "ipython",
    "version": 3
   },
   "file_extension": ".py",
   "mimetype": "text/x-python",
   "name": "python",
   "nbconvert_exporter": "python",
   "pygments_lexer": "ipython3",
   "version": "3.5.2"
  }
 },
 "nbformat": 4,
 "nbformat_minor": 2
}
