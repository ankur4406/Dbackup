{
 "cells": [
  {
   "cell_type": "code",
   "execution_count": null,
   "metadata": {
    "collapsed": true
   },
   "outputs": [],
   "source": [
    "def recognize_image_text(a2ia_path,image_pre_process_path,field_name,image_id):\n",
    "    try :\n",
    "        pic = os.path.join(image_pre_process_path,image_id +'/'+image_id+\"_cut/\" + field_name + '.TIF')\n",
    "        if not os.path.exists(os.path.join(image_pre_process_path,image_id +'/'+image_id+\"_results\")):\n",
    "            os.mkdir(os.path.join(image_pre_process_path,image_id +'/'+image_id+\"_results\"))\n",
    "        if not os.path.exists(os.path.join(image_pre_process_path,image_id +'/'+image_id+\"_scores\")):\n",
    "            os.mkdir(os.path.join(image_pre_process_path,image_id +'/'+image_id+\"_scores\"))\n",
    "        if not os.path.exists(os.path.join(image_pre_process_path,image_id +'/'+image_id+\"_scores\")):\n",
    "            os.mkdir(os.path.join(image_pre_process_path,image_id +'/'+image_id+\"_cuts\"))\n",
    "        #r = 'cd C:\\Program Files\\A2iA\\A2iA TextReader V5.0\\Sources\\COM\\CSHARP\\Standard\\\\bin\\\\x64\\Debug  && A2iA_CSHARP_COM_DLL.exe \\\"' + pic + '\\\"'\n",
    "        r = 'cd '+ a2ia_path +'  && A2iA_CSHARP_COM_DLL.exe \\\"' + pic + '\\\"'\n",
    "        print(lcl(r, capture = True))\n",
    "        root_result_path = os.path.join(image_pre_process_path,image_id +'/'+image_id+\"_results\")\n",
    "        #filename = imagepath.split(\"/\",1)[1]\n",
    "        #key = filename[:-4]\n",
    "        result_filename = field_name + '.txt'\n",
    "        with open(root_result_path + '/' + result_filename) as f:\n",
    "            value = f.readlines()\n",
    "        key = field_name\n",
    "        extracted_text = {}\n",
    "        extracted_text[key] = {}\n",
    "        extracted_text[key]['value'] = value\n",
    "        root_score_path = os.path.join(image_pre_process_path,image_id +'/'+image_id+\"_scores\")\n",
    "        score_filename = field_name + '.txt'\n",
    "        with open(root_score_path + '/' + score_filename) as f:\n",
    "            score = f.readlines()\n",
    "        extracted_text[key]['score'] = score\n",
    "        #extracted_text[key]['value'] = [''.join(extracted_text[key]['value']).replace('\\n', ' ')]\n",
    "        return value\n",
    "    except:\n",
    "        key = field_name\n",
    "        extracted_text = {}\n",
    "        extracted_text[key] = {}\n",
    "        extracted_text[key]['value'] = []\n",
    "        extracted_text[key]['score'] = []\n",
    "        val = []\n",
    "        return val"
   ]
  }
 ],
 "metadata": {
  "kernelspec": {
   "display_name": "Python 2",
   "language": "python",
   "name": "python2"
  },
  "language_info": {
   "codemirror_mode": {
    "name": "ipython",
    "version": 2
   },
   "file_extension": ".py",
   "mimetype": "text/x-python",
   "name": "python",
   "nbconvert_exporter": "python",
   "pygments_lexer": "ipython2",
   "version": "2.7.13"
  }
 },
 "nbformat": 4,
 "nbformat_minor": 2
}
