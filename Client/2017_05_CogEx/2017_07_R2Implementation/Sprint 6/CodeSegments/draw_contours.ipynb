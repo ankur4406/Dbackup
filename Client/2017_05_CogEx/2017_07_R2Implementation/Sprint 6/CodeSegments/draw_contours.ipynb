{
 "cells": [
  {
   "cell_type": "code",
   "execution_count": 14,
   "metadata": {
    "collapsed": true
   },
   "outputs": [],
   "source": [
    "# Setting up by importing all the relevant libraries\n",
    "import os\n",
    "import cv2\n",
    "# from scipy import misc\n",
    "from matplotlib import pyplot as plt"
   ]
  },
  {
   "cell_type": "code",
   "execution_count": 50,
   "metadata": {
    "collapsed": true
   },
   "outputs": [],
   "source": [
    "# Define required parameters\n",
    "dir = r'C:\\Users\\ankuarora\\Desktop\\Client\\2017_05_CogEx\\2017_07_R2Implementation\\Sprint 6\\SampleInputs'\n",
    "in_file = r'scanned letter 4.jpg'\n",
    "in_dir_file = os.path.join(dir,in_file)"
   ]
  },
  {
   "cell_type": "code",
   "execution_count": 71,
   "metadata": {
    "collapsed": false
   },
   "outputs": [],
   "source": [
    "# Loading the form instance as an array\n",
    "in_file = cv2.imread(in_dir_file)\n",
    "in_file_gray = cv2.cvtColor(in_file,cv2.COLOR_BGR2GRAY)\n",
    "# ret,thresh = cv2.threshold(in_file_gray,127,255,0)\n",
    "# in_file_gray = cv2.GaussianBlur(in_file_gray,(5,5),0)"
   ]
  },
  {
   "cell_type": "code",
   "execution_count": 80,
   "metadata": {
    "collapsed": false
   },
   "outputs": [],
   "source": [
    "# misc.toimage(in_file_gray)\n",
    "plt.imshow(thresh), plt.show()"
   ]
  },
  {
   "cell_type": "code",
   "execution_count": 34,
   "metadata": {
    "collapsed": false
   },
   "outputs": [],
   "source": [
    "# Remove noise by performing additional pre processing\n",
    "# dilate = cv2.dilate(in_file_gray,None)\n",
    "# misc.toimage(dilate)\n",
    "\n",
    "# erode = cv2.erode(in_file_gray,None)\n",
    "# misc.toimage(erode)"
   ]
  },
  {
   "cell_type": "code",
   "execution_count": 73,
   "metadata": {
    "collapsed": false
   },
   "outputs": [],
   "source": [
    "im2, contours, hierarchy = cv2.findContours(in_file_gray,cv2.RETR_TREE,cv2.CHAIN_APPROX_SIMPLE)"
   ]
  },
  {
   "cell_type": "code",
   "execution_count": 81,
   "metadata": {
    "collapsed": false
   },
   "outputs": [],
   "source": [
    "misc.toimage(in_file_gray)"
   ]
  },
  {
   "cell_type": "code",
   "execution_count": 82,
   "metadata": {
    "collapsed": false
   },
   "outputs": [],
   "source": [
    "misc.toimage(cv2.drawContours(in_file_gray, contours, -1, (0,255,0), 3))"
   ]
  },
  {
   "cell_type": "code",
   "execution_count": 83,
   "metadata": {
    "collapsed": true
   },
   "outputs": [],
   "source": [
    "import matplotlib as mpl\n",
    "import matplotlib.pyplot as plt\n",
    "from matplotlib.patches import Rectangle"
   ]
  },
  {
   "cell_type": "code",
   "execution_count": 100,
   "metadata": {
    "collapsed": true
   },
   "outputs": [],
   "source": [
    "fig = plt.figure()\n",
    "ax = plt.subplot()\n",
    "txt = fig.text(0.15,0.5,'afdjsklhvvhwd', fontsize = 36)"
   ]
  },
  {
   "cell_type": "code",
   "execution_count": 101,
   "metadata": {
    "collapsed": false
   },
   "outputs": [
    {
     "data": {
      "image/png": "[encoded data removed]",
      "text/plain": [
       "<matplotlib.figure.Figure at 0x23c895af860>"
      ]
     },
     "metadata": {},
     "output_type": "display_data"
    },
    {
     "data": {
      "text/plain": [
       "(None, None)"
      ]
     },
     "execution_count": 101,
     "metadata": {},
     "output_type": "execute_result"
    }
   ],
   "source": [
    "renderer1 = fig.canvas.get_renderer()\n",
    "# renderer2 = mpl.backend_bases.RendererBase()\n",
    "bbox1 = txt.get_window_extent(renderer1)\n",
    "# bbox2 = txt.get_window_extent(renderer2)\n",
    "rect1 = Rectangle([bbox1.x0, bbox1.y0], bbox1.width, bbox1.height, \\\n",
    "    color = [0,0,0], fill = False)\n",
    "# rect2 = Rectangle([bbox2.x0, bbox2.y0], bbox2.width, bbox2.height, \\\n",
    "#     color = [1,0,0], fill = False)\n",
    "fig.patches.append(rect1)\n",
    "# fig.patches.append(rect2)\n",
    "plt.draw(), plt.show()"
   ]
  },
  {
   "cell_type": "code",
   "execution_count": 95,
   "metadata": {
    "collapsed": false
   },
   "outputs": [
    {
     "data": {
      "text/plain": [
       "<matplotlib.figure.Figure at 0x23c8957b9b0>"
      ]
     },
     "metadata": {},
     "output_type": "display_data"
    }
   ],
   "source": [
    "plt.show()"
   ]
  }
 ],
 "metadata": {
  "kernelspec": {
   "display_name": "Python [default]",
   "language": "python",
   "name": "python3"
  },
  "language_info": {
   "codemirror_mode": {
    "name": "ipython",
    "version": 3
   },
   "file_extension": ".py",
   "mimetype": "text/x-python",
   "name": "python",
   "nbconvert_exporter": "python",
   "pygments_lexer": "ipython3",
   "version": "3.5.2"
  }
 },
 "nbformat": 4,
 "nbformat_minor": 1
}
