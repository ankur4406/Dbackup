{
 "cells": [
  {
   "cell_type": "code",
   "execution_count": 14,
   "metadata": {
    "collapsed": true
   },
   "outputs": [],
   "source": [
    "# Setting up by importing all the relevant libraries\n",
    "import os\n",
    "import cv2\n",
    "# from scipy import misc\n",
    "from matplotlib import pyplot as plt"
   ]
  },
  {
   "cell_type": "code",
   "execution_count": 50,
   "metadata": {
    "collapsed": true
   },
   "outputs": [],
   "source": [
    "# Define required parameters\n",
    "dir = r'C:\\Users\\ankuarora\\Desktop\\Client\\2017_05_CogEx\\2017_07_R2Implementation\\Sprint 6\\SampleInputs'\n",
    "in_file = r'scanned letter 4.jpg'\n",
    "in_dir_file = os.path.join(dir,in_file)"
   ]
  },
  {
   "cell_type": "code",
   "execution_count": 71,
   "metadata": {
    "collapsed": false
   },
   "outputs": [],
   "source": [
    "# Loading the form instance as an array\n",
    "in_file = cv2.imread(in_dir_file)\n",
    "in_file_gray = cv2.cvtColor(in_file,cv2.COLOR_BGR2GRAY)\n",
    "# ret,thresh = cv2.threshold(in_file_gray,127,255,0)\n",
    "# in_file_gray = cv2.GaussianBlur(in_file_gray,(5,5),0)"
   ]
  },
  {
   "cell_type": "code",
   "execution_count": 80,
   "metadata": {
    "collapsed": false
   },
   "outputs": [],
   "source": [
    "# misc.toimage(in_file_gray)\n",
    "plt.imshow(thresh), plt.show()"
   ]
  },
  {
   "cell_type": "code",
   "execution_count": 34,
   "metadata": {
    "collapsed": false
   },
   "outputs": [],
   "source": [
    "# Remove noise by performing additional pre processing\n",
    "# dilate = cv2.dilate(in_file_gray,None)\n",
    "# misc.toimage(dilate)\n",
    "\n",
    "# erode = cv2.erode(in_file_gray,None)\n",
    "# misc.toimage(erode)"
   ]
  },
  {
   "cell_type": "code",
   "execution_count": 73,
   "metadata": {
    "collapsed": false
   },
   "outputs": [],
   "source": [
    "im2, contours, hierarchy = cv2.findContours(in_file_gray,cv2.RETR_TREE,cv2.CHAIN_APPROX_SIMPLE)"
   ]
  },
  {
   "cell_type": "code",
   "execution_count": 81,
   "metadata": {
    "collapsed": false
   },
   "outputs": [],
   "source": [
    "misc.toimage(in_file_gray)"
   ]
  },
  {
   "cell_type": "code",
   "execution_count": 82,
   "metadata": {
    "collapsed": false
   },
   "outputs": [],
   "source": [
    "misc.toimage(cv2.drawContours(in_file_gray, contours, -1, (0,255,0), 3))"
   ]
  }
 ],
 "metadata": {
  "kernelspec": {
   "display_name": "Python [default]",
   "language": "python",
   "name": "python3"
  },
  "language_info": {
   "codemirror_mode": {
    "name": "ipython",
    "version": 3
   },
   "file_extension": ".py",
   "mimetype": "text/x-python",
   "name": "python",
   "nbconvert_exporter": "python",
   "pygments_lexer": "ipython3",
   "version": "3.5.2"
  }
 },
 "nbformat": 4,
 "nbformat_minor": 1
}
