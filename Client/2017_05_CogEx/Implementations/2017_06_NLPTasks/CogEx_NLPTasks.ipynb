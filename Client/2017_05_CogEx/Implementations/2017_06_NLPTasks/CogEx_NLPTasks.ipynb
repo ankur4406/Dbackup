{
 "cells": [
  {
   "cell_type": "code",
   "execution_count": 91,
   "metadata": {
    "collapsed": false
   },
   "outputs": [],
   "source": [
    "import nltk\n",
    "import pprint"
   ]
  },
  {
   "cell_type": "code",
   "execution_count": 5,
   "metadata": {
    "collapsed": true
   },
   "outputs": [],
   "source": [
    "my_text = \"\"\"Cardiovascular disease, including heart disease and stroke, affects tens of millions of people in the \n",
    "United States.  Consumers and patients who do not suffer from cardiovascular disease sometimes consider taking aspirin \n",
    "to reduce the possibility of having a heart attack or stroke.  Reducing the possibility of having a first heart attack \n",
    "or stroke is called primary prevention.  The FDA has reviewed the available data and does not believe the evidence \n",
    "supports the general use of aspirin for primary prevention of a heart attack or stroke.  In fact, there are serious \n",
    "risks associated with the use of aspirin, including increased risk of bleeding in the stomach and brain, in situations\n",
    "where the benefit of aspirin for primary prevention has not been established.\"\"\""
   ]
  },
  {
   "cell_type": "markdown",
   "metadata": {},
   "source": [
    "#### Tokenize text and create 'part of speech' tag"
   ]
  },
  {
   "cell_type": "code",
   "execution_count": 82,
   "metadata": {
    "collapsed": false
   },
   "outputs": [
    {
     "data": {
      "text/plain": [
       "[('Cardiovascular', 'JJ'),\n",
       " ('disease', 'NN'),\n",
       " (',', ','),\n",
       " ('including', 'VBG'),\n",
       " ('heart', 'NN'),\n",
       " ('disease', 'NN'),\n",
       " ('and', 'CC'),\n",
       " ('stroke', 'NN'),\n",
       " (',', ','),\n",
       " ('affects', 'VBZ'),\n",
       " ('tens', 'NNS'),\n",
       " ('of', 'IN'),\n",
       " ('millions', 'NNS'),\n",
       " ('of', 'IN'),\n",
       " ('people', 'NNS'),\n",
       " ('in', 'IN'),\n",
       " ('the', 'DT'),\n",
       " ('United', 'NNP'),\n",
       " ('States', 'NNPS'),\n",
       " ('.', '.'),\n",
       " ('Consumers', 'NNS'),\n",
       " ('and', 'CC'),\n",
       " ('patients', 'NNS'),\n",
       " ('who', 'WP'),\n",
       " ('do', 'VBP'),\n",
       " ('not', 'RB'),\n",
       " ('suffer', 'VB'),\n",
       " ('from', 'IN'),\n",
       " ('cardiovascular', 'JJ'),\n",
       " ('disease', 'NN'),\n",
       " ('sometimes', 'RB'),\n",
       " ('consider', 'VB'),\n",
       " ('taking', 'VBG'),\n",
       " ('aspirin', 'NN'),\n",
       " ('to', 'TO'),\n",
       " ('reduce', 'VB'),\n",
       " ('the', 'DT'),\n",
       " ('possibility', 'NN'),\n",
       " ('of', 'IN'),\n",
       " ('having', 'VBG'),\n",
       " ('a', 'DT'),\n",
       " ('heart', 'NN'),\n",
       " ('attack', 'NN'),\n",
       " ('or', 'CC'),\n",
       " ('stroke', 'NN'),\n",
       " ('.', '.'),\n",
       " ('Reducing', 'VBG'),\n",
       " ('the', 'DT'),\n",
       " ('possibility', 'NN'),\n",
       " ('of', 'IN'),\n",
       " ('having', 'VBG'),\n",
       " ('a', 'DT'),\n",
       " ('first', 'JJ'),\n",
       " ('heart', 'NN'),\n",
       " ('attack', 'NN'),\n",
       " ('or', 'CC'),\n",
       " ('stroke', 'NN'),\n",
       " ('is', 'VBZ'),\n",
       " ('called', 'VBN'),\n",
       " ('primary', 'JJ'),\n",
       " ('prevention', 'NN'),\n",
       " ('.', '.'),\n",
       " ('The', 'DT'),\n",
       " ('FDA', 'NNP'),\n",
       " ('has', 'VBZ'),\n",
       " ('reviewed', 'VBN'),\n",
       " ('the', 'DT'),\n",
       " ('available', 'JJ'),\n",
       " ('data', 'NNS'),\n",
       " ('and', 'CC'),\n",
       " ('does', 'VBZ'),\n",
       " ('not', 'RB'),\n",
       " ('believe', 'VB'),\n",
       " ('the', 'DT'),\n",
       " ('evidence', 'NN'),\n",
       " ('supports', 'VBZ'),\n",
       " ('the', 'DT'),\n",
       " ('general', 'JJ'),\n",
       " ('use', 'NN'),\n",
       " ('of', 'IN'),\n",
       " ('aspirin', 'NN'),\n",
       " ('for', 'IN'),\n",
       " ('primary', 'JJ'),\n",
       " ('prevention', 'NN'),\n",
       " ('of', 'IN'),\n",
       " ('a', 'DT'),\n",
       " ('heart', 'NN'),\n",
       " ('attack', 'NN'),\n",
       " ('or', 'CC'),\n",
       " ('stroke', 'NN'),\n",
       " ('.', '.'),\n",
       " ('In', 'IN'),\n",
       " ('fact', 'NN'),\n",
       " (',', ','),\n",
       " ('there', 'EX'),\n",
       " ('are', 'VBP'),\n",
       " ('serious', 'JJ'),\n",
       " ('risks', 'NNS'),\n",
       " ('associated', 'VBN'),\n",
       " ('with', 'IN'),\n",
       " ('the', 'DT'),\n",
       " ('use', 'NN'),\n",
       " ('of', 'IN'),\n",
       " ('aspirin', 'NN'),\n",
       " (',', ','),\n",
       " ('including', 'VBG'),\n",
       " ('increased', 'VBN'),\n",
       " ('risk', 'NN'),\n",
       " ('of', 'IN'),\n",
       " ('bleeding', 'VBG'),\n",
       " ('in', 'IN'),\n",
       " ('the', 'DT'),\n",
       " ('stomach', 'NN'),\n",
       " ('and', 'CC'),\n",
       " ('brain', 'NN'),\n",
       " (',', ','),\n",
       " ('in', 'IN'),\n",
       " ('situations', 'NNS'),\n",
       " ('where', 'WRB'),\n",
       " ('the', 'DT'),\n",
       " ('benefit', 'NN'),\n",
       " ('of', 'IN'),\n",
       " ('aspirin', 'NN'),\n",
       " ('for', 'IN'),\n",
       " ('primary', 'JJ'),\n",
       " ('prevention', 'NN'),\n",
       " ('has', 'VBZ'),\n",
       " ('not', 'RB'),\n",
       " ('been', 'VBN'),\n",
       " ('established', 'VBN'),\n",
       " ('.', '.')]"
      ]
     },
     "execution_count": 82,
     "metadata": {},
     "output_type": "execute_result"
    }
   ],
   "source": [
    "tokens = nltk.word_tokenize(my_text)\n",
    "nltk.pos_tag(tokens)"
   ]
  },
  {
   "cell_type": "markdown",
   "metadata": {},
   "source": [
    "#### Tag named entities"
   ]
  },
  {
   "cell_type": "code",
   "execution_count": 83,
   "metadata": {
    "collapsed": false
   },
   "outputs": [
    {
     "name": "stdout",
     "output_type": "stream",
     "text": [
      "(S\n",
      "  Cardiovascular/JJ\n",
      "  disease/NN\n",
      "  ,/,\n",
      "  including/VBG\n",
      "  heart/NN\n",
      "  disease/NN\n",
      "  and/CC\n",
      "  stroke/NN\n",
      "  ,/,\n",
      "  affects/VBZ\n",
      "  tens/NNS\n",
      "  of/IN\n",
      "  millions/NNS\n",
      "  of/IN\n",
      "  people/NNS\n",
      "  in/IN\n",
      "  the/DT\n",
      "  (GPE United/NNP States/NNPS)\n",
      "  ./.\n",
      "  Consumers/NNS\n",
      "  and/CC\n",
      "  patients/NNS\n",
      "  who/WP\n",
      "  do/VBP\n",
      "  not/RB\n",
      "  suffer/VB\n",
      "  from/IN\n",
      "  cardiovascular/JJ\n",
      "  disease/NN\n",
      "  sometimes/RB\n",
      "  consider/VB\n",
      "  taking/VBG\n",
      "  aspirin/NN\n",
      "  to/TO\n",
      "  reduce/VB\n",
      "  the/DT\n",
      "  possibility/NN\n",
      "  of/IN\n",
      "  having/VBG\n",
      "  a/DT\n",
      "  heart/NN\n",
      "  attack/NN\n",
      "  or/CC\n",
      "  stroke/NN\n",
      "  ./.\n",
      "  Reducing/VBG\n",
      "  the/DT\n",
      "  possibility/NN\n",
      "  of/IN\n",
      "  having/VBG\n",
      "  a/DT\n",
      "  first/JJ\n",
      "  heart/NN\n",
      "  attack/NN\n",
      "  or/CC\n",
      "  stroke/NN\n",
      "  is/VBZ\n",
      "  called/VBN\n",
      "  primary/JJ\n",
      "  prevention/NN\n",
      "  ./.\n",
      "  The/DT\n",
      "  (ORGANIZATION FDA/NNP)\n",
      "  has/VBZ\n",
      "  reviewed/VBN\n",
      "  the/DT\n",
      "  available/JJ\n",
      "  data/NNS\n",
      "  and/CC\n",
      "  does/VBZ\n",
      "  not/RB\n",
      "  believe/VB\n",
      "  the/DT\n",
      "  evidence/NN\n",
      "  supports/VBZ\n",
      "  the/DT\n",
      "  general/JJ\n",
      "  use/NN\n",
      "  of/IN\n",
      "  aspirin/NN\n",
      "  for/IN\n",
      "  primary/JJ\n",
      "  prevention/NN\n",
      "  of/IN\n",
      "  a/DT\n",
      "  heart/NN\n",
      "  attack/NN\n",
      "  or/CC\n",
      "  stroke/NN\n",
      "  ./.\n",
      "  In/IN\n",
      "  fact/NN\n",
      "  ,/,\n",
      "  there/EX\n",
      "  are/VBP\n",
      "  serious/JJ\n",
      "  risks/NNS\n",
      "  associated/VBN\n",
      "  with/IN\n",
      "  the/DT\n",
      "  use/NN\n",
      "  of/IN\n",
      "  aspirin/NN\n",
      "  ,/,\n",
      "  including/VBG\n",
      "  increased/VBN\n",
      "  risk/NN\n",
      "  of/IN\n",
      "  bleeding/VBG\n",
      "  in/IN\n",
      "  the/DT\n",
      "  stomach/NN\n",
      "  and/CC\n",
      "  brain/NN\n",
      "  ,/,\n",
      "  in/IN\n",
      "  situations/NNS\n",
      "  where/WRB\n",
      "  the/DT\n",
      "  benefit/NN\n",
      "  of/IN\n",
      "  aspirin/NN\n",
      "  for/IN\n",
      "  primary/JJ\n",
      "  prevention/NN\n",
      "  has/VBZ\n",
      "  not/RB\n",
      "  been/VBN\n",
      "  established/VBN\n",
      "  ./.)\n"
     ]
    }
   ],
   "source": [
    "ne_tree = nltk.ne_chunk(nltk.pos_tag(nltk.word_tokenize(my_text)))\n",
    "# iob_tagged = tree2conlltags(ne_tree)\n",
    "print ne_tree"
   ]
  },
  {
   "cell_type": "markdown",
   "metadata": {},
   "source": [
    "#### Extract NEs in a separate tree"
   ]
  },
  {
   "cell_type": "code",
   "execution_count": 84,
   "metadata": {
    "collapsed": false
   },
   "outputs": [
    {
     "name": "stdout",
     "output_type": "stream",
     "text": [
      "[['GPE', [('United', 'NNP'), ('States', 'NNPS')]], ['ORGANIZATION', [('FDA', 'NNP')]]]\n"
     ]
    }
   ],
   "source": [
    "from nltk.tree import Tree\n",
    "named_entities = []\n",
    "for i in ne_tree:\n",
    "    if type(i) == Tree:\n",
    "        named_entities.append([ i.label(), i.leaves()])\n",
    "print named_entities"
   ]
  },
  {
   "cell_type": "markdown",
   "metadata": {},
   "source": [
    "#### Noun Phrase Chunking\n",
    "In order to create an NP-chunker, we will first define a chunk grammar, consisting of rules that indicate how sentences should be chunked. In this case, we will define a simple grammar with a single regular-expression rule. This rule says that an NP chunk should be formed whenever the chunker finds an optional determiner (DT) followed by any number of adjectives (JJ) and then a noun (NN). Using this grammar, we create a chunk parser, and test it on our example sentence. The result is a tree, which we can either print, or display graphically."
   ]
  },
  {
   "cell_type": "code",
   "execution_count": 9,
   "metadata": {
    "collapsed": true
   },
   "outputs": [],
   "source": [
    "def preprocess(document):\n",
    "    sentences = nltk.sent_tokenize(document)\n",
    "    sentences = [nltk.word_tokenize(sent) for sent in sentences]\n",
    "    sentences = [nltk.pos_tag(sent) for sent in sentences]\n",
    "    return sentences"
   ]
  },
  {
   "cell_type": "code",
   "execution_count": 85,
   "metadata": {
    "collapsed": false
   },
   "outputs": [
    {
     "name": "stdout",
     "output_type": "stream",
     "text": [
      "[('Cardiovascular', 'JJ'), ('disease', 'NN'), (',', ','), ('including', 'VBG'), ('heart', 'NN'), ('disease', 'NN'), ('and', 'CC'), ('stroke', 'NN'), (',', ','), ('affects', 'VBZ'), ('tens', 'NNS'), ('of', 'IN'), ('millions', 'NNS'), ('of', 'IN'), ('people', 'NNS'), ('in', 'IN'), ('the', 'DT'), ('United', 'NNP'), ('States', 'NNPS'), ('.', '.')]\n",
      "(S\n",
      "  (NP Cardiovascular/JJ disease/NN)\n",
      "  ,/,\n",
      "  including/VBG\n",
      "  (NP heart/NN)\n",
      "  (NP disease/NN)\n",
      "  and/CC\n",
      "  (NP stroke/NN)\n",
      "  ,/,\n",
      "  affects/VBZ\n",
      "  tens/NNS\n",
      "  of/IN\n",
      "  millions/NNS\n",
      "  of/IN\n",
      "  people/NNS\n",
      "  in/IN\n",
      "  the/DT\n",
      "  United/NNP\n",
      "  States/NNPS\n",
      "  ./.)\n"
     ]
    }
   ],
   "source": [
    "sentence = preprocess(my_text)[0]\n",
    "print sentence\n",
    "\n",
    "grammar = \"NP: {<DT>?<JJ>*<NN>}\";\n",
    "\n",
    "cp = nltk.RegexpParser(grammar)\n",
    "result = cp.parse(sentence)\n",
    "print(result)\n",
    "result.draw()"
   ]
  },
  {
   "cell_type": "markdown",
   "metadata": {},
   "source": [
    "#### Coreference resolution using CoreNLP"
   ]
  },
  {
   "cell_type": "code",
   "execution_count": 86,
   "metadata": {
    "collapsed": true
   },
   "outputs": [],
   "source": [
    "from pprint import pprint\n",
    "from pycorenlp.corenlp import StanfordCoreNLP\n",
    "\n",
    "\n",
    "host = \"http://localhost\"\n",
    "port = \"9000\"\n",
    "nlp = StanfordCoreNLP(host + \":\" + port)"
   ]
  },
  {
   "cell_type": "code",
   "execution_count": 88,
   "metadata": {
    "collapsed": false
   },
   "outputs": [
    {
     "name": "stdout",
     "output_type": "stream",
     "text": [
      "{u'1': [{u'animacy': u'ANIMATE',\n",
      "         u'endIndex': 2,\n",
      "         u'gender': u'MALE',\n",
      "         u'headIndex': 1,\n",
      "         u'id': 1,\n",
      "         u'isRepresentativeMention': True,\n",
      "         u'number': u'SINGULAR',\n",
      "         u'position': [1, 1],\n",
      "         u'sentNum': 1,\n",
      "         u'startIndex': 1,\n",
      "         u'text': u'John',\n",
      "         u'type': u'PROPER'},\n",
      "        {u'animacy': u'ANIMATE',\n",
      "         u'endIndex': 10,\n",
      "         u'gender': u'MALE',\n",
      "         u'headIndex': 9,\n",
      "         u'id': 6,\n",
      "         u'isRepresentativeMention': False,\n",
      "         u'number': u'SINGULAR',\n",
      "         u'position': [2, 3],\n",
      "         u'sentNum': 2,\n",
      "         u'startIndex': 9,\n",
      "         u'text': u'he',\n",
      "         u'type': u'PRONOMINAL'}],\n",
      " u'2': [{u'animacy': u'INANIMATE',\n",
      "         u'endIndex': 5,\n",
      "         u'gender': u'NEUTRAL',\n",
      "         u'headIndex': 4,\n",
      "         u'id': 2,\n",
      "         u'isRepresentativeMention': True,\n",
      "         u'number': u'UNKNOWN',\n",
      "         u'position': [1, 2],\n",
      "         u'sentNum': 1,\n",
      "         u'startIndex': 4,\n",
      "         u'text': u'Google',\n",
      "         u'type': u'PROPER'},\n",
      "        {u'animacy': u'INANIMATE',\n",
      "         u'endIndex': 5,\n",
      "         u'gender': u'UNKNOWN',\n",
      "         u'headIndex': 1,\n",
      "         u'id': 4,\n",
      "         u'isRepresentativeMention': False,\n",
      "         u'number': u'SINGULAR',\n",
      "         u'position': [2, 1],\n",
      "         u'sentNum': 2,\n",
      "         u'startIndex': 1,\n",
      "         u'text': u'Its the best company',\n",
      "         u'type': u'PRONOMINAL'}],\n",
      " u'3': [{u'animacy': u'INANIMATE',\n",
      "         u'endIndex': 14,\n",
      "         u'gender': u'MALE',\n",
      "         u'headIndex': 13,\n",
      "         u'id': 3,\n",
      "         u'isRepresentativeMention': True,\n",
      "         u'number': u'SINGULAR',\n",
      "         u'position': [2, 4],\n",
      "         u'sentNum': 2,\n",
      "         u'startIndex': 12,\n",
      "         u'text': u'New York',\n",
      "         u'type': u'PROPER'}],\n",
      " u'5': [{u'animacy': u'INANIMATE',\n",
      "         u'endIndex': 5,\n",
      "         u'gender': u'NEUTRAL',\n",
      "         u'headIndex': 4,\n",
      "         u'id': 5,\n",
      "         u'isRepresentativeMention': True,\n",
      "         u'number': u'SINGULAR',\n",
      "         u'position': [2, 2],\n",
      "         u'sentNum': 2,\n",
      "         u'startIndex': 2,\n",
      "         u'text': u'the best company',\n",
      "         u'type': u'NOMINAL'}]}\n"
     ]
    }
   ],
   "source": [
    "# my_text_c = \"John works with Google. He lives in New York and uses his car for commuting to office. \"\n",
    "my_text_c = \"John works with Google. Its the best company to work with and he lives in New York.\"\n",
    "output = nlp.annotate(\n",
    "    my_text_c,\n",
    "    properties={\n",
    "        \"outputFormat\": \"json\",\n",
    "        \"annotators\": \"dcoref\"\n",
    "    }\n",
    ")\n",
    "pprint(output['corefs'])"
   ]
  },
  {
   "cell_type": "markdown",
   "metadata": {},
   "source": [
    "#### Training the POS tagger"
   ]
  },
  {
   "cell_type": "code",
   "execution_count": 89,
   "metadata": {
    "collapsed": false
   },
   "outputs": [
    {
     "name": "stdout",
     "output_type": "stream",
     "text": [
      "[(u'Mr.', u'NNP'), (u'Vinken', u'NNP'), (u'is', u'VBZ'), (u'chairman', u'NN'), (u'of', u'IN'), (u'Elsevier', u'NNP'), (u'N.V.', u'NNP'), (u',', u','), (u'the', u'DT'), (u'Dutch', u'NNP'), (u'publishing', u'VBG'), (u'group', u'NN'), (u'.', u'.')]\n",
      "Tagged sentences:  3914\n",
      "Tagged words: 1161192\n"
     ]
    }
   ],
   "source": [
    "# tagged_sentences = nltk.corpus.brown.tagged_sents()\n",
    "tagged_sentences = nltk.corpus.treebank.tagged_sents()\n",
    " \n",
    "print tagged_sentences[1]\n",
    "print \"Tagged sentences: \", len(tagged_sentences)\n",
    "print \"Tagged words:\", len(nltk.corpus.brown.tagged_words())"
   ]
  },
  {
   "cell_type": "code",
   "execution_count": 92,
   "metadata": {
    "collapsed": false
   },
   "outputs": [
    {
     "name": "stdout",
     "output_type": "stream",
     "text": [
      "{'capitals_inside': False,\n",
      " 'has_hyphen': False,\n",
      " 'is_all_caps': False,\n",
      " 'is_all_lower': True,\n",
      " 'is_capitalized': False,\n",
      " 'is_first': False,\n",
      " 'is_last': False,\n",
      " 'is_numeric': False,\n",
      " 'next_word': 'sentence',\n",
      " 'prefix-1': 's',\n",
      " 'prefix-2': 'si',\n",
      " 'prefix-3': 'sim',\n",
      " 'prev_word': 'a',\n",
      " 'suffix-1': 'e',\n",
      " 'suffix-2': 'le',\n",
      " 'suffix-3': 'ple',\n",
      " 'word': 'simple'}\n"
     ]
    }
   ],
   "source": [
    "def features(sentence, index):\n",
    "    \"\"\" sentence: [w1, w2, ...], index: the index of the word \"\"\"\n",
    "    return {\n",
    "        'word': sentence[index],\n",
    "        'is_first': index == 0,\n",
    "        'is_last': index == len(sentence) - 1,\n",
    "        'is_capitalized': sentence[index][0].upper() == sentence[index][0],\n",
    "        'is_all_caps': sentence[index].upper() == sentence[index],\n",
    "        'is_all_lower': sentence[index].lower() == sentence[index],\n",
    "        'prefix-1': sentence[index][0],\n",
    "        'prefix-2': sentence[index][:2],\n",
    "        'prefix-3': sentence[index][:3],\n",
    "        'suffix-1': sentence[index][-1],\n",
    "        'suffix-2': sentence[index][-2:],\n",
    "        'suffix-3': sentence[index][-3:],\n",
    "        'prev_word': '' if index == 0 else sentence[index - 1],\n",
    "        'next_word': '' if index == len(sentence) - 1 else sentence[index + 1],\n",
    "        'has_hyphen': '-' in sentence[index],\n",
    "        'is_numeric': sentence[index].isdigit(),\n",
    "        'capitals_inside': sentence[index][1:].lower() != sentence[index][1:]\n",
    "    }\n",
    "\n",
    "pprint.pprint(features(['This', 'is', 'a', 'simple', 'sentence'], 3))"
   ]
  },
  {
   "cell_type": "code",
   "execution_count": 93,
   "metadata": {
    "collapsed": true
   },
   "outputs": [],
   "source": [
    "def untag(tagged_sentence):\n",
    "    return [w for w, t in tagged_sentence]"
   ]
  },
  {
   "cell_type": "code",
   "execution_count": 94,
   "metadata": {
    "collapsed": false
   },
   "outputs": [
    {
     "name": "stdout",
     "output_type": "stream",
     "text": [
      "2935\n",
      "979\n"
     ]
    },
    {
     "data": {
      "text/plain": [
       "[{'capitals_inside': False,\n",
       "  'has_hyphen': False,\n",
       "  'is_all_caps': False,\n",
       "  'is_all_lower': False,\n",
       "  'is_capitalized': True,\n",
       "  'is_first': True,\n",
       "  'is_last': False,\n",
       "  'is_numeric': False,\n",
       "  'next_word': u'Vinken',\n",
       "  'prefix-1': u'P',\n",
       "  'prefix-2': u'Pi',\n",
       "  'prefix-3': u'Pie',\n",
       "  'prev_word': '',\n",
       "  'suffix-1': u'e',\n",
       "  'suffix-2': u're',\n",
       "  'suffix-3': u'rre',\n",
       "  'word': u'Pierre'},\n",
       " {'capitals_inside': False,\n",
       "  'has_hyphen': False,\n",
       "  'is_all_caps': False,\n",
       "  'is_all_lower': False,\n",
       "  'is_capitalized': True,\n",
       "  'is_first': False,\n",
       "  'is_last': False,\n",
       "  'is_numeric': False,\n",
       "  'next_word': u',',\n",
       "  'prefix-1': u'V',\n",
       "  'prefix-2': u'Vi',\n",
       "  'prefix-3': u'Vin',\n",
       "  'prev_word': u'Pierre',\n",
       "  'suffix-1': u'n',\n",
       "  'suffix-2': u'en',\n",
       "  'suffix-3': u'ken',\n",
       "  'word': u'Vinken'},\n",
       " {'capitals_inside': False,\n",
       "  'has_hyphen': False,\n",
       "  'is_all_caps': True,\n",
       "  'is_all_lower': True,\n",
       "  'is_capitalized': True,\n",
       "  'is_first': False,\n",
       "  'is_last': False,\n",
       "  'is_numeric': False,\n",
       "  'next_word': u'61',\n",
       "  'prefix-1': u',',\n",
       "  'prefix-2': u',',\n",
       "  'prefix-3': u',',\n",
       "  'prev_word': u'Vinken',\n",
       "  'suffix-1': u',',\n",
       "  'suffix-2': u',',\n",
       "  'suffix-3': u',',\n",
       "  'word': u','}]"
      ]
     },
     "execution_count": 94,
     "metadata": {},
     "output_type": "execute_result"
    }
   ],
   "source": [
    "# Split the dataset for training and testing\n",
    "cutoff = int(.75 * len(tagged_sentences))\n",
    "training_sentences = tagged_sentences[:cutoff]\n",
    "test_sentences = tagged_sentences[cutoff:]\n",
    "\n",
    "print len(training_sentences)\n",
    "print len(test_sentences)\n",
    "\n",
    "def transform_to_dataset(tagged_sentences):\n",
    "    X, y = [], []\n",
    "    for tagged in tagged_sentences:\n",
    "        for index in range(len(tagged)):\n",
    "            X.append(features(untag(tagged), index))\n",
    "            y.append(tagged[index][1]) \n",
    "    return X, y\n",
    " \n",
    "X, y = transform_to_dataset(training_sentences)\n",
    "X[0:3]"
   ]
  },
  {
   "cell_type": "code",
   "execution_count": 42,
   "metadata": {
    "collapsed": false
   },
   "outputs": [
    {
     "name": "stdout",
     "output_type": "stream",
     "text": [
      "Training completed\n",
      "Accuracy: 0.861762815362\n"
     ]
    }
   ],
   "source": [
    "### from sklearn.tree import DecisionTreeClassifier\n",
    "from sklearn.feature_extraction import DictVectorizer\n",
    "from sklearn.pipeline import Pipeline\n",
    " \n",
    "clf = Pipeline([\n",
    "    ('vectorizer', DictVectorizer(sparse=False)),\n",
    "    ('classifier', DecisionTreeClassifier(criterion='entropy'))\n",
    "])\n",
    "\n",
    "clf.fit(X[:4000], y[:4000])   # Use only the first 4K samples. It takes a fair bit of time and memory\n",
    "\n",
    "print 'Training completed'\n",
    "\n",
    "X_test, y_test = transform_to_dataset(test_sentences)\n",
    "\n",
    "print \"Accuracy:\", clf.score(X_test, y_test)"
   ]
  },
  {
   "cell_type": "code",
   "execution_count": 95,
   "metadata": {
    "collapsed": false
   },
   "outputs": [
    {
     "name": "stdout",
     "output_type": "stream",
     "text": [
      "[('This', u'DT'), ('is', u'VBZ'), ('my', u'NN'), ('friend', u'NN'), (',', u','), ('John', u'NNP'), ('.', u'.')]\n"
     ]
    }
   ],
   "source": [
    "def pos_tag(sentence):\n",
    "    tagged_sentence = []\n",
    "    tags = clf.predict([features(sentence, index) for index in range(len(sentence))])\n",
    "    return zip(sentence, tags)\n",
    "\n",
    "print pos_tag(nltk.word_tokenize('This is my friend, John.'))"
   ]
  },
  {
   "cell_type": "markdown",
   "metadata": {},
   "source": [
    "#### Custom NER using estnltk - Work in progress!!"
   ]
  },
  {
   "cell_type": "code",
   "execution_count": 1,
   "metadata": {
    "collapsed": false
   },
   "outputs": [
    {
     "ename": "ImportError",
     "evalue": "No module named estnltk",
     "output_type": "error",
     "traceback": [
      "\u001b[0;31m---------------------------------------------------------------------------\u001b[0m",
      "\u001b[0;31mImportError\u001b[0m                               Traceback (most recent call last)",
      "\u001b[0;32m<ipython-input-1-0828c64e8140>\u001b[0m in \u001b[0;36m<module>\u001b[0;34m()\u001b[0m\n\u001b[0;32m----> 1\u001b[0;31m \u001b[1;32mfrom\u001b[0m \u001b[0mestnltk\u001b[0m \u001b[1;32mimport\u001b[0m \u001b[0mText\u001b[0m\u001b[1;33m\u001b[0m\u001b[0m\n\u001b[0m\u001b[1;32m      2\u001b[0m \u001b[1;33m\u001b[0m\u001b[0m\n\u001b[1;32m      3\u001b[0m \u001b[0mtext\u001b[0m \u001b[1;33m=\u001b[0m \u001b[0mText\u001b[0m\u001b[1;33m(\u001b[0m\u001b[0mmy_text\u001b[0m\u001b[1;33m)\u001b[0m\u001b[1;33m\u001b[0m\u001b[0m\n\u001b[1;32m      4\u001b[0m \u001b[1;33m\u001b[0m\u001b[0m\n\u001b[1;32m      5\u001b[0m \u001b[1;31m# Extract named entities\u001b[0m\u001b[1;33m\u001b[0m\u001b[1;33m\u001b[0m\u001b[0m\n",
      "\u001b[0;31mImportError\u001b[0m: No module named estnltk"
     ]
    }
   ],
   "source": [
    "from estnltk import Text\n",
    "\n",
    "text = Text(my_text)\n",
    "\n",
    "# Extract named entities\n",
    "pprint(list(zip(text.named_entities, text.named_entity_labels, text.named_entity_spans)))"
   ]
  },
  {
   "cell_type": "markdown",
   "metadata": {},
   "source": [
    "#### Training a named entity chunker"
   ]
  },
  {
   "cell_type": "code",
   "execution_count": 9,
   "metadata": {
    "collapsed": false
   },
   "outputs": [],
   "source": [
    "# import nltk.tag, nltk.chunk, itertools\n",
    "import itertools\n",
    "from nltk.corpus import ieer"
   ]
  },
  {
   "cell_type": "code",
   "execution_count": 10,
   "metadata": {
    "collapsed": true
   },
   "outputs": [],
   "source": [
    "def ieertree2conlltags(tree, tag=nltk.tag.pos_tag):\n",
    "    words, ents = zip(*tree.pos())\n",
    "    iobs = []\n",
    "    prev = None\n",
    "    for ent in ents:\n",
    "        if ent == tree.node:\n",
    "            iobs.append('O')\n",
    "            prev = None\n",
    "        elif prev == ent:\n",
    "            iobs.append('I-%s' % ent)\n",
    "        else:\n",
    "            iobs.append('B-%s' % ent)\n",
    "            prev = ent\n",
    "\n",
    "    words, tags = zip(*tag(words))\n",
    "    return itertools.izip(words, tags, iobs)\n",
    "\n",
    "def ieer_chunked_sents(tag=nltk.tag.pos_tag):\n",
    "    for doc in ieer.parsed_docs():\n",
    "        tagged = ieertree2conlltags(doc.text, tag)\n",
    "        yield nltk.chunk.conlltags2tree(tagged)"
   ]
  },
  {
   "cell_type": "code",
   "execution_count": 11,
   "metadata": {
    "collapsed": false
   },
   "outputs": [
    {
     "ename": "ValueError",
     "evalue": "Attempted relative import in non-package",
     "output_type": "error",
     "traceback": [
      "\u001b[0;31m---------------------------------------------------------------------------\u001b[0m",
      "\u001b[0;31mValueError\u001b[0m                                Traceback (most recent call last)",
      "\u001b[0;32m<ipython-input-11-14bead0b6655>\u001b[0m in \u001b[0;36m<module>\u001b[0;34m()\u001b[0m\n\u001b[0;32m----> 1\u001b[0;31m \u001b[1;32mfrom\u001b[0m \u001b[0mchunkers\u001b[0m \u001b[1;32mimport\u001b[0m \u001b[0mieer_chunked_sents\u001b[0m\u001b[1;33m,\u001b[0m \u001b[0mClassifierChunker\u001b[0m\u001b[1;33m\u001b[0m\u001b[0m\n\u001b[0m\u001b[1;32m      2\u001b[0m \u001b[1;31m# from nltk.corpus import treebank_chunk\u001b[0m\u001b[1;33m\u001b[0m\u001b[1;33m\u001b[0m\u001b[0m\n\u001b[1;32m      3\u001b[0m \u001b[0mieer_chunks\u001b[0m \u001b[1;33m=\u001b[0m \u001b[0mlist\u001b[0m\u001b[1;33m(\u001b[0m\u001b[0mieer_chunked_sents\u001b[0m\u001b[1;33m(\u001b[0m\u001b[1;33m)\u001b[0m\u001b[1;33m)\u001b[0m\u001b[1;33m\u001b[0m\u001b[0m\n\u001b[1;32m      4\u001b[0m \u001b[1;31m# >>> len(ieer_chunks)\u001b[0m\u001b[1;33m\u001b[0m\u001b[1;33m\u001b[0m\u001b[0m\n\u001b[1;32m      5\u001b[0m \u001b[1;31m# 94\u001b[0m\u001b[1;33m\u001b[0m\u001b[1;33m\u001b[0m\u001b[0m\n",
      "\u001b[0;32mC:\\Users\\ankuarora\\Desktop\\Client\\2017_05_NLP_Framework\\Implementations\\2017_06_NLPTasks\\chunkers.py\u001b[0m in \u001b[0;36m<module>\u001b[0;34m()\u001b[0m\n\u001b[1;32m      3\u001b[0m \u001b[1;32mfrom\u001b[0m \u001b[0mnltk\u001b[0m\u001b[1;33m.\u001b[0m\u001b[0mchunk\u001b[0m\u001b[1;33m.\u001b[0m\u001b[0mutil\u001b[0m \u001b[1;32mimport\u001b[0m \u001b[0mconlltags2tree\u001b[0m\u001b[1;33m,\u001b[0m \u001b[0mtree2conlltags\u001b[0m\u001b[1;33m\u001b[0m\u001b[0m\n\u001b[1;32m      4\u001b[0m \u001b[1;32mfrom\u001b[0m \u001b[0mnltk\u001b[0m\u001b[1;33m.\u001b[0m\u001b[0mtag\u001b[0m \u001b[1;32mimport\u001b[0m \u001b[0mUnigramTagger\u001b[0m\u001b[1;33m,\u001b[0m \u001b[0mBigramTagger\u001b[0m\u001b[1;33m,\u001b[0m \u001b[0mClassifierBasedTagger\u001b[0m\u001b[1;33m\u001b[0m\u001b[0m\n\u001b[0;32m----> 5\u001b[0;31m \u001b[1;32mfrom\u001b[0m \u001b[1;33m.\u001b[0m\u001b[0mtransforms\u001b[0m \u001b[1;32mimport\u001b[0m \u001b[0mnode_label\u001b[0m\u001b[1;33m\u001b[0m\u001b[0m\n\u001b[0m\u001b[1;32m      6\u001b[0m \u001b[1;33m\u001b[0m\u001b[0m\n\u001b[1;32m      7\u001b[0m \u001b[1;31m#####################\u001b[0m\u001b[1;33m\u001b[0m\u001b[1;33m\u001b[0m\u001b[0m\n",
      "\u001b[0;31mValueError\u001b[0m: Attempted relative import in non-package"
     ]
    }
   ],
   "source": [
    "from chunkers import ieer_chunked_sents, ClassifierChunker\n",
    "# from nltk.corpus import treebank_chunk\n",
    "ieer_chunks = list(ieer_chunked_sents())\n",
    "# >>> len(ieer_chunks)\n",
    "# 94\n",
    "# >>> chunker = ClassifierChunker(ieer_chunks[:80])\n",
    "# >>> chunker.parse(treebank_chunk.tagged_sents()[0])"
   ]
  },
  {
   "cell_type": "markdown",
   "metadata": {},
   "source": [
    "#### Introduction to gensim"
   ]
  },
  {
   "cell_type": "code",
   "execution_count": 96,
   "metadata": {
    "collapsed": false
   },
   "outputs": [
    {
     "name": "stdout",
     "output_type": "stream",
     "text": [
      "Original Text:\n",
      "Cardiovascular disease, including heart disease and stroke, affects tens of millions of people in the \n",
      "United States.  Consumers and patients who do not suffer from cardiovascular disease sometimes consider taking aspirin \n",
      "to reduce the possibility of having a heart attack or stroke.  Reducing the possibility of having a first heart attack \n",
      "or stroke is called primary prevention.  The FDA has reviewed the available data and does not believe the evidence \n",
      "supports the general use of aspirin for primary prevention of a heart attack or stroke.  In fact, there are serious \n",
      "risks associated with the use of aspirin, including increased risk of bleeding in the stomach and brain, in situations\n",
      "where the benefit of aspirin for primary prevention has not been established.\n",
      "\n",
      "Summary:\n",
      "supports the general use of aspirin for primary prevention of a heart attack or stroke.\n"
     ]
    }
   ],
   "source": [
    "from gensim.summarization import summarize\n",
    "print(\"Original Text:\")\n",
    "print(my_text)\n",
    "\n",
    "print (\"\\nSummary:\")\n",
    "print summarize(my_text, word_count=20)"
   ]
  },
  {
   "cell_type": "markdown",
   "metadata": {},
   "source": [
    "## Not for Demo"
   ]
  },
  {
   "cell_type": "markdown",
   "metadata": {},
   "source": [
    "## 1: Text Preprocessing\n",
    "#### 1.1 Noise Removal"
   ]
  },
  {
   "cell_type": "code",
   "execution_count": 25,
   "metadata": {
    "collapsed": false
   },
   "outputs": [],
   "source": [
    "# Function to convert a raw string of words. The input is a single string (a raw movie review),\n",
    "# and the output is a single string (a preprocessed movie review)\n",
    "from nltk.corpus import stopwords\n",
    "def pre_process(raw_review):\n",
    "    # 1. Remove HTML\n",
    "    review_text = bs(raw_review).get_text()\n",
    "    #\n",
    "    # 2. Remove non-letters\n",
    "    letters_only = re.sub(\"[^a-zA-Z]\", \" \", review_text)\n",
    "    #\n",
    "    # 3. Remove stop words\n",
    "    words = letters_only.lower().split()\n",
    "    stops = set(stopwords.words(\"english\"))\n",
    "    meaningful_words = [w for w in words if not w in stops]\n",
    "    #\n",
    "    # 6. Join the words back into one string separated by space, and return the result.\n",
    "    return( \" \".join( meaningful_words ))"
   ]
  },
  {
   "cell_type": "code",
   "execution_count": 26,
   "metadata": {
    "collapsed": false
   },
   "outputs": [
    {
     "name": "stdout",
     "output_type": "stream",
     "text": [
      "\"Watching Time Chasers, it obvious that it was made by a bunch of friends. Maybe they were sitting around one day in film school and said, \\\"Hey, let's pool our money together and make a really bad movie!\\\" Or something like that. What ever they said, they still ended up making a really bad movie--dull story, bad script, lame acting, poor cinematography, bottom of the barrel stock music, etc. All corners were cut, except the one that would have prevented this film's release. Life's like that.\"\n",
      "watching time chasers obvious made bunch friends maybe sitting around one day film school said hey let pool money together make really bad movie something like ever said still ended making really bad movie dull story bad script lame acting poor cinematography bottom barrel stock music etc corners cut except one would prevented film release life like\n"
     ]
    }
   ],
   "source": [
    "# let's call the function for a single review:\n",
    "print train['review'][0]\n",
    "print pre_process(train['review'][0])"
   ]
  },
  {
   "cell_type": "code",
   "execution_count": 27,
   "metadata": {
    "collapsed": true
   },
   "outputs": [],
   "source": [
    "# Initialize an empty list to hold the clean reviews\n",
    "clean_train = []\n",
    "\n",
    "# Loop over each review; create an index i that goes from 0 to the length of the movie review list \n",
    "for i in range(train[\"review\"].size):\n",
    "    # Call our function for each one, and add the result to the list of clean reviews\n",
    "    clean_train.append(pre_process(train[\"review\"][i]))\n",
    "\n",
    "print \"Cleansed Data Shape: {}\".format(clean_train.shape)\n",
    "print \"Sample Cleansed Data: {}\".format(clean_train['review'][0])"
   ]
  },
  {
   "cell_type": "markdown",
   "metadata": {},
   "source": [
    "#### 1.2 Lexicon Normalization"
   ]
  },
  {
   "cell_type": "code",
   "execution_count": null,
   "metadata": {
    "collapsed": true
   },
   "outputs": [],
   "source": [
    "# Create Lemmatizer instance\n",
    "from nltk.stem.wordnet import WordNetLemmatizer \n",
    "lem = WordNetLemmatizer()\n",
    "\n",
    "# Create Stemmer instance\n",
    "from nltk.stem.porter import PorterStemmer \n",
    "stem = PorterStemmer()"
   ]
  },
  {
   "cell_type": "code",
   "execution_count": null,
   "metadata": {
    "collapsed": true
   },
   "outputs": [],
   "source": [
    "word = \"multiplying\" \n",
    "lem.lemmatize(word, \"v\")\n",
    ">> \"multiply\" \n",
    "stem.stem(word)\n",
    ">> \"multipli\"\n",
    "lem = WordNetLemmatizer()\n",
    "\n",
    "from nltk.stem.porter import PorterStemmer \n",
    "stem = PorterStemmer()\n",
    "\n",
    "word = \"multiplying\" \n",
    "lem.lemmatize(word, \"v\")\n",
    ">> \"multiply\" \n",
    "stem.stem(word)\n",
    ">> \"multipli\""
   ]
  }
 ],
 "metadata": {
  "kernelspec": {
   "display_name": "Python 2",
   "language": "python",
   "name": "python2"
  },
  "language_info": {
   "codemirror_mode": {
    "name": "ipython",
    "version": 2
   },
   "file_extension": ".py",
   "mimetype": "text/x-python",
   "name": "python",
   "nbconvert_exporter": "python",
   "pygments_lexer": "ipython2",
   "version": "2.7.13"
  }
 },
 "nbformat": 4,
 "nbformat_minor": 2
}
