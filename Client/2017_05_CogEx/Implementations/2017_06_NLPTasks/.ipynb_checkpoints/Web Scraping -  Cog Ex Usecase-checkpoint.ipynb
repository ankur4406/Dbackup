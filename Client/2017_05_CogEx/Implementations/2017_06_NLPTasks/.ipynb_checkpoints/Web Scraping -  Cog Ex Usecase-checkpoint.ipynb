{
 "cells": [
  {
   "cell_type": "code",
   "execution_count": null,
   "metadata": {
    "collapsed": true
   },
   "outputs": [],
   "source": [
    "from bs4 import BeautifulSoup\n",
    "import lxml\n",
    "import pandas as pd\n",
    "import urllib2\n",
    "import requests\n",
    "import string"
   ]
  },
  {
   "cell_type": "code",
   "execution_count": null,
   "metadata": {
    "collapsed": false
   },
   "outputs": [],
   "source": [
    "str_query = raw_input()"
   ]
  },
  {
   "cell_type": "code",
   "execution_count": 30,
   "metadata": {
    "collapsed": false
   },
   "outputs": [
    {
     "data": {
      "text/plain": [
       "[u'https://www.fda.gov/drugs/resourcesforyou/consumers/ucm390574.htm',\n",
       " u'https://www.fda.gov/drugs/resourcesforyou/consumers/buyingusingmedicinesafely/understandingover-the-countermedicines/safedailyuseofaspirin/ucm291433.htm',\n",
       " u'https://www.fda.gov/forconsumers/consumerupdates/ucm453610.htm',\n",
       " u'https://www.fda.gov/forconsumers/consumerupdates/ucm390539.htm',\n",
       " u'https://www.fda.gov/downloads/drugs/emergencypreparedness/bioterrorismanddrugpreparedness/ucm133432.pdf',\n",
       " u'https://www.fda.gov/drugs/drugsafety/ucm375654.htm',\n",
       " u'https://www.fda.gov/drugs/drugsafety/ucm383904.htm',\n",
       " u'https://www.fda.gov/drugs/drugsafety/drugsafetypodcasts/ucm384684.htm',\n",
       " u'https://www.fda.gov/drugs/drugsafety/drugsafetypodcasts/ucm245452.htm',\n",
       " u'https://www.fda.gov/Drugs/ResourcesForYou/Consumers/BuyingUsingMedicineSafely/UnderstandingOver-the-CounterMedicines/SafeDailyUseofAspirin/ucm291434.htm']"
      ]
     },
     "execution_count": 30,
     "metadata": {},
     "output_type": "execute_result"
    }
   ],
   "source": [
    "query_url = 'https://google2.fda.gov/search?q=' + string.replace(str_query,' ', '+')\n",
    "query_url\n",
    "fda_search = urllib2.urlopen(query_url)\n",
    "soup = BeautifulSoup(fda_search)\n",
    "soup.prettify()\n",
    "all_links = soup.findAll('u')\n",
    "all_links\n",
    "links_without_tags = [link.text for link in all_links]\n",
    "links_without_tags"
   ]
  },
  {
   "cell_type": "code",
   "execution_count": 23,
   "metadata": {
    "collapsed": false
   },
   "outputs": [],
   "source": [
    "def extract_text(url):\n",
    "    html = urllib2.urlopen(url).read()\n",
    "    soup = BeautifulSoup(html)\n",
    "\n",
    "    # kill all script and style elements\n",
    "    for script in soup([\"script\", \"style\"]):\n",
    "        script.extract()    # rip it out\n",
    "\n",
    "    # get text\n",
    "    text = soup.get_text()\n",
    "\n",
    "    # break into lines and remove leading and trailing space on each\n",
    "    lines = (line.strip() for line in text.splitlines())\n",
    "\n",
    "    # break multi-headlines into a line each\n",
    "    chunks = (phrase.strip() for line in lines for phrase in line.split(\"  \"))\n",
    "\n",
    "    # drop blank lines\n",
    "    text = '\\n'.join(chunk for chunk in chunks if chunk)\n",
    "\n",
    "    return text"
   ]
  },
  {
   "cell_type": "code",
   "execution_count": 24,
   "metadata": {
    "collapsed": true
   },
   "outputs": [],
   "source": [
    "all_text = []\n",
    "for link in links_without_tags:\n",
    "    text = extract_text(link)\n",
    "    all_text.append(text)"
   ]
  },
  {
   "cell_type": "code",
   "execution_count": 26,
   "metadata": {
    "collapsed": false
   },
   "outputs": [
    {
     "data": {
      "text/plain": [
       "u'Use of Aspirin for Primary Prevention of Heart Attack and Stroke\\nSkip to main page content\\nSkip to search\\nSkip to topics menu\\nSkip to common links\\nHHS\\nU.S. Department of Health and Human Services\\nU.S. Food and Drug Administration\\nA to Z Index\\nFollow FDA\\nEn Espa\\xf1ol\\nSearch FDA\\nSubmit search\\nPopular Content\\nHome\\nFood\\nDrugs\\nMedical Devices\\nRadiation-Emitting Products\\nVaccines, Blood & Biologics\\nAnimal & Veterinary\\nCosmetics\\nTobacco Products\\nDrugs\\nHome\\nDrugs\\nResources for You\\nInformation for Consumers (Drugs)\\nUse of Aspirin for Primary Prevention of Heart Attack and Stroke\\nShare\\nTweet\\nLinkedin\\nPin it\\nMore sharing options\\nLinkedin\\nPin it\\nEmail\\nPrint\\n[05/02/2014] Cardiovascular disease, including heart disease and stroke, affects tens of millions of people in the United States. \\xa0Consumers and patients who do not suffer from cardiovascular disease sometimes consider taking aspirin to reduce the possibility of having a heart attack or stroke.\\xa0 Reducing the possibility of having a first heart attack or stroke is called primary prevention. \\xa0The FDA has reviewed the available data and does not believe the evidence supports the general use of aspirin for primary prevention of a heart attack or stroke. \\xa0In fact, there are serious risks associated with the use of aspirin, including increased risk of bleeding in the stomach and brain, in situations where the benefit of aspirin for primary prevention has not been established.The available evidence supports the use of aspirin for preventing another heart attack or stroke in patients\\xa0who have already had a heart attack or stroke, or have other evidence of coronary artery disease, such as angina or a history of a coronary bypass operation or coronary angioplasty. Reducing the risk of additional heart attacks or strokes is known as secondary prevention.\\xa0In patients who have had\\xa0such cardiovascular events, the known benefits of aspirin for secondary prevention outweigh the risk of bleeding.FDA is committed to reviewing any data supporting new medicines and new uses to improve the health of the American public.What is primary prevention for heart attack or stroke? What is secondary prevention for heart attack or stroke?Should I stop taking aspirin if my health care provider recommended that I take it to prevent a first heart attack or stroke?Has FDA considered additional information/studies about aspirin in reaching this conclusion? Would FDA revisit this decision in the future? Why is FDA issuing this information now? Which other government organizations support the FDA\\u2019s position?\\xa0Q1. What is primary prevention for heart attack or stroke? Primary prevention refers to prevention of heart attacks in patients with no prior history of coronary artery\\xa0disease or stroke.[Back to top]Q2. What is secondary prevention for heart attack or stroke? Secondary prevention refers to measures\\xa0to prevent another heart attack or stroke in patients who have previously experienced a heart attack, stroke or other cardiovascular event.[Back to top]Q3. Should I stop taking aspirin if my health care provider recommended that I take it to prevent a first heart attack or stroke? We encourage patients to talk to their healthcare provider about the best treatment for their individual situation. The kinds of evidence FDA uses to make regulatory decisions, which have broad public health implications, may be different from those used by a physician treating a specific patient.[Back to top]Q4.\\xa0Has FDA considered additional information/studies about aspirin in reaching this conclusion? Would FDA revisit this decision in the future?FDA has reviewed studies on the use of aspirin for the prevention of a first cardiovascular event (primary prevention) and did not find sufficient support for the use of aspirin for primary prevention in these trials. FDA is currently awaiting results of additional clinical trials that are underway and are estimated to have reportable results in the next few years. These clinical trials may provide new evidence that could be the basis for changing the current uses (indications) for aspirin.[Back to top]Q5. Why is FDA issuing this information now?FDA recently denied a request submitted by Bayer HealthCare, LLC, requesting a change in the prescribing information for health care professionals (professional labeling) for aspirin to allow marketing of the product for prevention of heart attacks in patients with no prior history of cardiovascular disease.After the 2003 advisory committee meeting, FDA was aware of several ongoing studies for primary prevention in patients with diabetes and diseases of the arteries and veins located outside of the heart and brain (peripheral vascular disease). We opted to wait for the outcome of these studies. The results of these studies were published over the past several years.\\xa0 They did not demonstrate a significant benefit for primary prevention.[Back to top]Q6. Which other government organizations support the FDA\\u2019s position? The Centers for Disease Control and Prevention\\u2019s (CDC\\u2019s) national initiative, the Million Hearts Campaign, is focused on increasing appropriate, secondary prevention aspirin use in individuals who already have heart disease or stroke.\\xa0 The CDC, in its Million Hearts Campaign, agrees with FDA\\u2019s position.The National Heart, Lung, and Blood Institute (NHLBI) recommends, as does FDA, the use of aspirin for secondary prevention.\\xa0 Specifically, NHLBI recommends using aspirin\\xa0to lower the risk of a heart attack for those who have already had one, and\\xa0to keep arteries open in those who have had a previous heart bypass or other artery-opening procedure such as coronary angioplasty.[Back to top]\\nMore in Information for Consumers (Drugs)\\nEducational Resources: Free Drug-Related Publications\\nJumpStarting Drug Review\\nQuestions & Answers\\nBuying & Using Medicine Safely\\nAntibiotics and Antibiotic Resistance\\nBuying Medicines Over the Internet\\nBuying Medicine from Outside the United States\\nCounterfeit Medicine\\nEnsuring Safe Use of Medicine\\nUnderstanding Generic Drugs\\nMisuse of Prescription Pain Relievers\\nUnderstanding Over-the-Counter Medicines\\nMedication Health Fraud\\nTips for Seniors\\nTips for Parents\\nEn Espa\\xf1ol\\nPrescription Drug Advertising\\nBackground on Drug Advertising\\nBasics of Drug Ads\\nDrug Advertising: A Glossary of Terms\\nPrescription Drug Advertising: Questions and Answers\\nPrescription Drug Advertising: Questions to Ask Yourself\\nSample Prescription Drug Advertisements\\nGive Us Feedback\\nResources for You\\nDrug Information for Consumers\\nAspirin for Reducing Your Risk of Heart Attack and Stroke: Know the Facts\\nAspirin for Reducing Your Risk of Heart Attack and Stroke: KNOW THE FACTS. (Brochure)\\xa0(PDF - 1.9MB)\\nAspirin: Questions and Answers\\nCan an Aspirin a Day Help Prevent a Heart Attack?\\nPage Last Updated: 12/30/2016\\nNote: If you need help accessing information in different file formats, see Instructions for Downloading Viewers and Players.\\nLanguage Assistance Available: Espa\\xf1ol | \\u7e41\\u9ad4\\u4e2d\\u6587 | Ti\\u1ebfng Vi\\u1ec7t | \\ud55c\\uad6d\\uc5b4 | Tagalog | \\u0420\\u0443\\u0441\\u0441\\u043a\\u0438\\u0439 | \\u0627\\u0644\\u0639\\u0631\\u0628\\u064a\\u0629 | Krey\\xf2l Ayisyen | Fran\\xe7ais | Polski | Portugu\\xeas | Italiano | Deutsch | \\u65e5\\u672c\\u8a9e | \\u0641\\u0627\\u0631\\u0633\\u06cc | English\\nFDA\\nAccessibility\\nCareers\\nFDA Basics\\nFOIA\\nNo FEAR Act\\nSite Map\\nNondiscrimination\\nWebsite Policies\\nU.S. Food and Drug Administration\\n10903 New Hampshire Avenue\\nSilver Spring, MD 20993\\n1-888-INFO-FDA (1-888-463-6332)\\nContact FDA\\nSubscribe to FDA RSS feeds\\nFollow FDA on Twitter\\nFollow FDA on Facebook\\nView FDA videos on YouTube\\nView FDA photos on Flickr\\nFDA Archive\\nCombination Products\\nAdvisory Committees\\nRegulatory Information\\nSafety\\nEmergency Preparedness\\nInternational Programs\\nNews & Events\\nTraining & Continuing Education\\nInspections & Compliance\\nFederal, State & Local Officials\\nConsumers\\nHealth Professionals\\nScience & Research\\nIndustry\\nScroll back to top\\nPopular Content\\nHome\\nLatest Recalls\\nReport an Adverse Event\\nMedWatch Safety Alerts\\nNews Releases\\nConsumer Updates\\nAbout FDA\\nContact FDA\\nBrowse by Product Area\\nProduct Areas\\nback\\nFood\\nDrugs\\nMedical Devices\\nRadiation-Emitting Products\\nVaccines, Blood & Biologics\\nAnimal & Veterinary\\nCosmetics\\nTobacco Products'"
      ]
     },
     "execution_count": 26,
     "metadata": {},
     "output_type": "execute_result"
    }
   ],
   "source": [
    "all_text[1]"
   ]
  }
 ],
 "metadata": {
  "kernelspec": {
   "display_name": "Python 2",
   "language": "python",
   "name": "python2"
  },
  "language_info": {
   "codemirror_mode": {
    "name": "ipython",
    "version": 2
   },
   "file_extension": ".py",
   "mimetype": "text/x-python",
   "name": "python",
   "nbconvert_exporter": "python",
   "pygments_lexer": "ipython2",
   "version": "2.7.13"
  }
 },
 "nbformat": 4,
 "nbformat_minor": 0
}
